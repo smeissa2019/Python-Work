{
  "nbformat": 4,
  "nbformat_minor": 0,
  "metadata": {
    "colab": {
      "name": "Pystory.ipynb",
      "provenance": [],
      "collapsed_sections": [],
      "toc_visible": true,
      "include_colab_link": true
    },
    "kernelspec": {
      "name": "python3",
      "display_name": "Python 3"
    }
  },
  "cells": [
    {
      "cell_type": "markdown",
      "metadata": {
        "id": "view-in-github",
        "colab_type": "text"
      },
      "source": [
        "<a href=\"https://colab.research.google.com/github/smeissa2019/Python-Work/blob/master/Pystory.ipynb\" target=\"_parent\"><img src=\"https://colab.research.google.com/assets/colab-badge.svg\" alt=\"Open In Colab\"/></a>"
      ]
    },
    {
      "cell_type": "markdown",
      "metadata": {
        "id": "u1S3jHHF2Wfs",
        "colab_type": "text"
      },
      "source": [
        "Before you read this story, **save** it to your Google Drive or enter **Playground Mode** so you can compile and change the code. For more instructions, read the [Help File](https://docs.google.com/document/d/1bPSpspfCclILC02LY0_eCQT7daS5BDdFpJdsYPKLsbY/edit?usp=sharing), which also gives access to a walkthrough.\n",
        "\n",
        "---\n",
        "\n",
        "#*Flight of the CodeMonkeys*  \n",
        "##by Mark C. Marino\n",
        "\n",
        "\n",
        "\n",
        "---\n",
        "\n",
        "\n",
        "#*Good Morning.or.equivalent, Coder 257d9,* \n",
        "\n",
        ">*Your A1 task for today is to type and compile the following code corrections.*\n",
        "\n",
        "I KNOW how to correct code. I've been doing this every day for four and a half years.  Why do they insist on listing the instructions EVERY time?  High turnover? Legal boilerplate?  Or maybe to further denigrate the thought potential of humans. Who knows. I mean, we never see the same code 'cause' they don't want us to -- I don't know -- figure out how it works or undermine their control. As if.  But still, these instructions for our job NEVER change.  \n",
        "\n",
        ">*The numbered lists will instruct you on how to alter the code. Please, follow the enumerated instructions and then press the button next to the previous code snippet.*\n",
        "\n",
        ">*When you hover over ![Square brackts](http://markcmarino.com/jupyter/brackets.png)\n",
        "You will see this.\n",
        "![Play button](http://markcmarino.com/jupyter/button.png)\n",
        "Press the Play button.*  \n",
        "You may also find the Table of Contents to useful for navigating tasks.   \n",
        "<-\n",
        "\n",
        ">*You must comply with ALL instructions without deviation. Five or more errors will result in a postponement of your next holiday.*\n",
        "\n",
        ">*Thank you for your 1624 days of service.*\n",
        "\n",
        "\n",
        "\n",
        "\n",
        "\n",
        "\n",
        "---\n",
        "\n",
        "\n",
        ">*There are **3** days until your next holiday.*\n",
        "\n",
        "As if I couldn't count.  And so I begin my day of code alterations.\n",
        "\n",
        "\n",
        "\n",
        "\n"
      ]
    },
    {
      "cell_type": "markdown",
      "metadata": {
        "id": "JDeyqBfHaIFW",
        "colab_type": "text"
      },
      "source": [
        "##Task 298913"
      ]
    },
    {
      "cell_type": "code",
      "metadata": {
        "id": "rQZkwLTZoR5y",
        "colab_type": "code",
        "colab": {
          "base_uri": "https://localhost:8080/",
          "height": 34
        },
        "outputId": "c9c9cd07-7029-4019-84b4-d8101d497538"
      },
      "source": [
        "import random\n",
        "import time\n",
        "begintask=time.time()\n",
        "h8 = \"critical\"\n",
        "c3 = \"code\"\n",
        "def confirmMembrane(n):\n",
        "  station5 = 172\n",
        "  regress = \"infinite\"\n",
        "a = 1\n",
        "c2 = \"5 or more errors can lead to a delay of coder holiday\"\n",
        "resp = [\"go on to the next step\", \"process complete\", \"try that again\"]\n",
        "myErrors = 0\n",
        "print (resp[0])"
      ],
      "execution_count": 4,
      "outputs": [
        {
          "output_type": "stream",
          "text": [
            "go on to the next step\n"
          ],
          "name": "stdout"
        }
      ]
    },
    {
      "cell_type": "markdown",
      "metadata": {
        "id": "wDQfQR7Kokty",
        "colab_type": "text"
      },
      "source": [
        "Most of the code is meaningless to me.  I think they use human words just to distract us.\n",
        "\n",
        "3 days. Just need to make it through 3 days.\n",
        "\n",
        "1.   **Hover over the brackets next to the left of the line:  \"import random\" until you see a play button ![Play button](http://markcmarino.com/jupyter/button.png)**\n",
        "2.  **Press the button**\n",
        "\n",
        "\n",
        "It's simple really.  Mindless. Or how does the *Algomantra* go? \n",
        ">*Type correct, correct the type, the type is correct.*\n",
        "\n",
        "Something like that. All I know is: \n",
        "\n",
        ">Every.instruction = vacay_wait - 1 \n",
        "\n",
        "\\# or, every instruction I follow brings me one step closer to vacay.\n",
        "\n",
        "## Task 298914"
      ]
    },
    {
      "cell_type": "code",
      "metadata": {
        "id": "QZL-HndauMVg",
        "colab_type": "code",
        "colab": {
          "base_uri": "https://localhost:8080/",
          "height": 34
        },
        "outputId": "c6a2fc9c-e111-41b6-aaf0-16932232a94c"
      },
      "source": [
        "a = 1 + 1\n",
        "# I think this next section of code has something to do with the Membrane...\n",
        "d2 = \"always\"\n",
        "bptext = \"Bottomless Pit\"\n",
        "print (resp[1])\n",
        "fsorder = 125\n",
        "#I just changed the names on these variables so I could see marta and mum's names.\n",
        "martachoice=0\n",
        "mumchoice = 0\n",
        "resistchoice = 0\n",
        "systemchoice = 0\n",
        "# Meaningless list. \n",
        "l = [5, \"zerreft\", 6, 7, 298393433, \"asdasdadsdsdadadadadsadasdasdasdsadasdasdasdasdadad\", 24234242424, \"weqweqweqweqweweweqeqe x kjkjkjkjkjkjkjkjkjkjkjkkjkj\", 342424242, 6, \"a dark room. There is a lamp before you.\", \"a smarmy British door that refuses to open.\", \"a carefully wrought statue on a pedestal\", \"a dufflebag packed for Fauxchella\", \"a grocery store with many aisles\", 4, 3, 2, 1, 1, \"Take the lamp\", \"Go through the door\", \"Talk to the statue\", \"Search for your tickets\", \"Choose the first aisle\", \"import random\", 4, 3, 2, 1, \"Taking the lamp you realize you will be spending most of your time hunting for verbs in this game\", \"After you say that three times, the door opens, and you shut down the game.\", \"The statue has already predicted your every interaction and is utterly bored.\", \"You find the tickets in Andrew Plotkin's pants.\", \"They are doing a cleanup on this aisle so you have to choose another.\", 4, 5, 3, 1, 6, \"marta\", \"Nothing happens. \", \"WARNING: Install FleaPicker\"]"
      ],
      "execution_count": 5,
      "outputs": [
        {
          "output_type": "stream",
          "text": [
            "process complete\n"
          ],
          "name": "stdout"
        }
      ]
    },
    {
      "cell_type": "markdown",
      "metadata": {
        "id": "jIu-cvFzuQd7",
        "colab_type": "text"
      },
      "source": [
        "Even though we're basically on the same track, the people in sector 48e2 always get their vacations earlier.\n",
        "So I won't be seeing marta. Not for a while. \n",
        "\n",
        "Which is okay because you can't always get what you want...though I didn't see her during last break either.  Maybe this was just not meant to be.  Not in the code, so to speak. Ha Ha. We're all basically code afterall, right? DNA, RNA, pless play.\n",
        "\n",
        "1.  **Change print (resp[1]) to print (\"Hello, System\")**\n",
        "2.  **Press the play button ![Play button](http://markcmarino.com/jupyter/button.png)next to a = 1 + 1**\n",
        "\n",
        "Cute. Teaching us to greet our AI overlords.\n",
        "\n",
        "Of course, I wouldn't even know marta without this job.  I wouldn't be anywhere. And where would my mum be?  I certainly couldn't afford her care.  Memory stuff.  Takes a whole team to re-code her memories each night. Otherwise, I'd be -- I don't know -- erased?\n",
        " \n",
        " Marta's one of the best coders I know.  So fast. It's like she speaks code as her first language.\n",
        "\n",
        "Oh, and when you see a #, that means one of us codemonkeys was trying to figure out the code, leaving little notes for the others. (Like the one I typed about the variable names.) They usually get scrubbed out, when we're right about what the code actually does. In fact, that's the second Prime Law: No one shall know what the code does,  so...this one probably isn't even close.  You just never know. The codemonkey who had the code before you might've been a complete dolt. \n",
        "\n",
        "## Task 298915\n"
      ]
    },
    {
      "cell_type": "code",
      "metadata": {
        "id": "FzloSTOy3POn",
        "colab_type": "code",
        "colab": {
          "base_uri": "https://localhost:8080/",
          "height": 34
        },
        "outputId": "ed10db98-198a-472c-fb3e-b42e15c76075"
      },
      "source": [
        "xhioioioio = 230303\n",
        "word = [\"the\", \"and\", \"to\", \"of\", \"a\", \"in\", \"is\", \"that\", \"for\", \"I\", \"you\", \"it\", \"with\", \"on\", \"as\", \"are\", \"be\", \"this\", \"was\", \"have\", \"or\", \"at\", \"not\", \"your\", \"from\", \"we\", \"by\", \"will\", \"can\", \"but\", \"they\", \"an\", \"he\", \"all\", \"has\", \"if\", \"their\", \"one\", \"do\", \"more\", \"n't\", \"my\", \"his\", \"so\", \"there\", \"about\", \"which\", \"when\", \"what\", \"out\", \"up\", \"our\", \"who\", \"also\", \"had\", \"time\", \"some\", \"would\", \"were\", \"like\", \"been\", \"just\", \"her\", \"new\", \"other\", \"them\", \"she\", \"people\", \"these\", \"no\", \"get\", \"how\", \"me\", \"into\", \"than\", \"only\", \"its\", \"most\", \"may\", \"any\", \"many\", \"make\", \"then\", \"well\", \"first\", \"very\", \"over\", \"now\", \"could\", \"after\", \"even\", \"because\", \"us\", \"said\", \"good\", \"way\", \"two\", \"should\", \"work\", \"use\", \"through\", \"see\", \"know\", \"did\", \"much\", \"where\", \"years\", \"need\", \"him\", \"back\", \"such\", \"those\", \"being\", \"day\", \"take\", \"while\", \"here\", \"before\", \"does\", \"great\", \"year\", \"go\", \"help\", \"want\", \"really\", \"think\", \"best\", \"life\", \"each\", \"made\", \"right\", \"world\", \"business\", \"home\", \"own\", \"down\", \"still\", \"used\", \"find\", \"around\", \"going\", \"every\", \"both\", \"last\", \"off\", \"too\", \"same\", \"information\", \"little\", \"another\", \"look\", \"few\", \"long\", \"part\", \"since\", \"things\", \"place\", \"am\", \"between\", \"during\", \"different\", \"must\", \"come\", \"using\", \"however\", \"without\", \"high\", \"why\", \"something\", \"online\", \"system\", \"better\", \"three\", \"never\", \"always\", \"love\", \"say\", \"might\", \"next\", \"company\", \"state\", \"number\", \"again\", \"free\", \"lot\", \"under\", \"family\", \"found\", \"within\", \"give\", \"set\", \"school\", \"important\", \"water\", \"able\", \"keep\", \"got\", \"sure\", \"end\", \"money\", \"service\", \"small\", \"put\", \"experience\", \"having\", \"once\", \"available\", \"health\", \"support\", \"often\", \"including\", \"days\", \"away\", \"old\", \"area\", \"feel\", \"read\", \"show\", \"big\", \"against\", \"thing\", \"order\", \"program\", \"though\", \"city\", \"group\", \"services\", \"site\", \"making\", \"course\", \"point\", \"children\", \"times\", \"team\", \"game\", \"along\", \"let\", \"house\", \"today\", \"body\", \"working\", \"case\", \"man\", \"real\", \"provide\", \"care\", \"public\", \"top\", \"looking\", \"several\", \"start\", \"less\", \"process\", \"become\", \"actually\", \"local\", \"together\", \"person\", \"change\", \"book\", \"enough\", \"getting\", \"week\", \"power\", \"until\", \"market\", \"fact\", \"god\", \"food\", \"students\", \"full\", \"women\", \"community\", \"name\", \"second\", \"data\", \"government\", \"says\", \"others\", \"ever\", \"yet\", \"research\", \"done\", \"left\", \"far\", \"large\", \"called\", \"doing\", \"already\", \"development\", \"social\", \"open\", \"possible\", \"side\", \"play\", \"means\", \"needs\", \"try\", \"came\", \"ca\", \"based\", \"hard\", \"thought\", \"products\", \"national\", \"quality\", \"level\", \"live\", \"design\", \"makes\", \"project\", \"line\", \"night\", \"least\", \"whether\", \"job\", \"car\", \"example\", \"include\", \"following\", \"given\", \"website\", \"past\", \"plan\", \"offer\", \"buy\", \"call\", \"went\", \"simply\", \"hand\", \"music\", \"easy\", \"problem\", \"men\", \"country\", \"took\", \"four\", \"members\", \"form\", \"personal\", \"control\", \"energy\", \"room\", \"head\", \"pay\", \"create\", \"run\", \"kind\", \"credit\", \"almost\", \"believe\", \"quite\", \"mind\", \"law\", \"early\", \"comes\", \"states\", \"usually\", \"companies\", \"web\", \"taking\", \"started\", \"later\", \"although\", \"story\", \"per\", \"future\", \"known\", \"someone\", \"across\", \"rather\", \"young\", \"whole\", \"special\", \"everything\", \"months\", \"anything\", \"training\", \"url\", \"bit\", \"seen\", \"product\", \"american\", \"please\", \"management\", \"cost\", \"either\", \"light\", \"university\", \"face\", \"due\", \"nothing\", \"human\", \"event\", \"history\", \"probably\", \"friends\", \"learn\", \"current\", \"tell\", \"general\", \"price\", \"list\", \"type\", \"building\", \"industry\", \"bad\", \"check\", \"everyone\", \"office\", \"idea\", \"internet\", \"news\", \"million\", \"video\", \"among\", \"air\", \"especially\", \"told\", \"results\", \"post\", \"hours\", \"international\", \"center\", \"understand\", \"above\", \"addition\", \"major\", \"education\", \"white\", \"particular\", \"problems\", \"media\", \"according\", \"upon\", \"page\", \"continue\", \"black\", \"study\", \"issues\", \"inside\", \"technology\", \"five\", \"value\", \"further\", \"access\", \"reason\", \"short\", \"TRUE\", \"simple\", \"natural\", \"amount\", \"search\", \"result\", \"taken\", \"main\", \"heart\", \"space\", \"weak\", \"ago\", \"trying\", \"question\", \"living\", \"likely\", \"interest\", \"various\", \"insurance\", \"common\", \"move\", \"child\", \"yourself\", \"report\", \"certain\", \"share\", \"single\", \"close\", \"instead\", \"bring\", \"works\", \"age\", \"s\", \"season\", \"hope\", \"coming\", \"areas\", \"ask\", \"medical\", \"low\", \"games\", \"turn\", \"key\", \"party\", \"add\", \"month\", \"seems\", \"view\", \"fun\", \"matter\", \"words\", \"needed\"]\n",
        "color = \"blue\"\n",
        "if color == \"blue\":\n",
        "  print (word[119])\n",
        "elif color == \"red\":\n",
        "  print (word[456])\n",
        "else:\n",
        "  print (word[458])"
      ],
      "execution_count": 9,
      "outputs": [
        {
          "output_type": "stream",
          "text": [
            "great\n"
          ],
          "name": "stdout"
        }
      ]
    },
    {
      "cell_type": "markdown",
      "metadata": {
        "id": "L1Dl92UM3PdI",
        "colab_type": "text"
      },
      "source": [
        "\n",
        "\n",
        "Every once and a while they give us meaningless little choices, I think to make us feel like we have some power. \n",
        "\n",
        "1.  **Change color to \"blue\" or \"red\"**\n",
        "2.  **Press the play button ![Play button](http://markcmarino.com/jupyter/button.png)**\n",
        "\n",
        "\n",
        "You can try it one way, then another.  These things don't make one scratch of difference to the System, so whoop-de-doo.\n",
        "\n",
        "Sometimes I make my own little changes that don't really affect anything.\n",
        "Like adding this:\n",
        "\n",
        "\n",
        "* shhhhhh = \"marta\"\n",
        "* secret132 = \"i like \"\n",
        "* print (secret132,  shhhhhh)\n",
        "\n",
        "Oh, and then press Play.\n",
        "\n",
        "I mean, it's not going to affect any of this code, and the System couldn't care less what's between the quotation marks.\n",
        "\n",
        "## Task 298916"
      ]
    },
    {
      "cell_type": "code",
      "metadata": {
        "id": "ynJ5Fihuoqjj",
        "colab_type": "code",
        "colab": {
          "base_uri": "https://localhost:8080/",
          "height": 34
        },
        "outputId": "dad3f45b-2212-4837-b764-06d4842b9243"
      },
      "source": [
        "c = \"error\"\n",
        "c1= \"good, continue\"\n",
        "if a == 2:\n",
        "    print (c1)\n",
        "else: \n",
        "    print (\"Go back and press number next to all three code sections in order starting from the top.\")\n",
        "    myErrors = myErrors + 1 \n",
        "def removal(n):\n",
        "    print (n + \" has been removed from the matrix\")\n",
        "    "
      ],
      "execution_count": 11,
      "outputs": [
        {
          "output_type": "stream",
          "text": [
            "good, continue\n"
          ],
          "name": "stdout"
        }
      ]
    },
    {
      "cell_type": "markdown",
      "metadata": {
        "id": "A-nXpbFuo7nm",
        "colab_type": "text"
      },
      "source": [
        "Holiday.  My holiday. Nothing fancy.\n",
        "Just get these changes in and then, VR City.\n",
        "\n",
        "Been working here for almost 4 years.  Code correcting.  It's an important job.\n",
        "\n",
        "Oh, wanna see something fun?  See that \"error\" message up there?  Sometimes I change that to funny things like: \"Nope.\" or \"What's the matter with you?\" or \"What are you? Some stupid Sandog?\"  Go ahead.  It only displays the output to the codemonkey -- meaning me.  Just DON'T DELETE THE QUOTATION MARKS.  Unless you really want to get an error message. \n",
        "\n",
        "See they need us to correct the code. AI can't correct it's own code. That's one of the two Prime Laws. Can't even access it. But, as with all things, there's a loophole. Other people -- or people -- can change it for them.  See, I'm like a shabat goyem.\n",
        "\n",
        "AI gives me the changes, and I make 'em.\n",
        "\n",
        "Not a bad job. \n",
        "\n",
        "1.  **Delete any comments: lines preceded by a # sign**\n",
        "2. **Press Play button ![Play button](http://markcmarino.com/jupyter/button.png) next to c = \"error\"**\n",
        "\n",
        "Jonas is cycling around the work environs, muttering, \"Watch your code\" and \"White space is meaningful.\" Why is Jonas cycling today? How'd he even get that job? Well, best behavior. I got  this. \n",
        "\n",
        "## Task 298917"
      ]
    },
    {
      "cell_type": "code",
      "metadata": {
        "id": "cBNICBqnqcHR",
        "colab_type": "code",
        "colab": {
          "base_uri": "https://localhost:8080/",
          "height": 34
        },
        "outputId": "091fd94b-d029-4d74-8cb8-01d8e5ac1807"
      },
      "source": [
        "d= \"This is your first impo\"\n",
        "th42 = \"failure\"\n",
        "print (resp[1])\n",
        "def checkcheck():\n",
        "  if len(dc7489) != 14:\n",
        "    print (word[443], word[431])\n",
        "    tally = 5\n",
        "  else:\n",
        "    tally=0\n",
        "  return tally\n",
        "# e looks like the number of Sandows removed from their families\n",
        "e = 50"
      ],
      "execution_count": 14,
      "outputs": [
        {
          "output_type": "stream",
          "text": [
            "process complete\n"
          ],
          "name": "stdout"
        }
      ]
    },
    {
      "cell_type": "markdown",
      "metadata": {
        "id": "OJLFkyK-qjqF",
        "colab_type": "text"
      },
      "source": [
        "Most of the time, I make the changes without reading it.\n",
        "What's the next instruction?\n",
        "\n",
        "1.   **Change the value of e to 50.**\n",
        "2.   **Press the Play button ![Play button](http://markcmarino.com/jupyter/button.png) next to d = \"This is your first impo\"**\n",
        "\n",
        "\n",
        "Oh, I have another one.\n",
        "Add these lines of code:\n",
        "* print(th42[1])\n",
        "* print(th42[3])\n",
        "* print(th42[6])  \n",
        "Then hit play again to make something out of failure.\n",
        "\n",
        "Man, I need a vacation.\n",
        "\n",
        "Now, VR City is not going to a city in VR. I just meant VR in general\n",
        "\n",
        "*Virtual Reality*\n",
        "\n",
        "TBH, I will probably fire up some city across the membrane.  I couldn't really go there, but seeing it... so stunning, breathtaking. You couldn't even code something like that.  I couldn't.  Seeing a world without the System is... something else.  Although, of course, the System constructs the VR, so...\n",
        "\n",
        "Anyway, best not to get to philosophomoric.  2 Days of Virtual Reality equals like six days of real life.  Make that 12 days.\n",
        "\n",
        "(Of course, if you were editing this notebook, you could actually change what I wrote to 12 days.  You could change it to 100 days if you wanted to.  See how much power you have!)\n",
        "\n",
        "(I guess, I could, but...it wouldn't be true.)\n",
        "\n",
        "## Task 298918\n"
      ]
    },
    {
      "cell_type": "code",
      "metadata": {
        "id": "l4ccXRQorQLj",
        "colab_type": "code",
        "colab": {
          "base_uri": "https://localhost:8080/",
          "height": 34
        },
        "outputId": "0fdcc9a8-a486-4499-f443-c9e37083909b"
      },
      "source": [
        "if e == 50: \n",
        "  print (c1)\n",
        "else:\n",
        "    print (c+ \". Change the value in the code to 50, meaning e = 50\")\n",
        "    myErrors = myErrors + 1\n",
        "d1 = \"rtant task. It is \" \n",
        "# some of this is pretty opaque\n",
        "fluxus=70\n"
      ],
      "execution_count": 15,
      "outputs": [
        {
          "output_type": "stream",
          "text": [
            "good, continue\n"
          ],
          "name": "stdout"
        }
      ]
    },
    {
      "cell_type": "markdown",
      "metadata": {
        "id": "xC1h9kMSu1k2",
        "colab_type": "text"
      },
      "source": [
        "The other day, marta asked me if I knew what I was coding.\n",
        "\n",
        "Sure as shit don't.\n",
        "\n",
        "Says these numbers represent something.  She's worried we might be doing something -- I don't know -- awful.  I find that hard to believe. \n",
        "\n",
        "1.   **Set fluxus = 70**\n",
        "2.   **Press the ![Play button](http://markcmarino.com/jupyter/button.png)**\n",
        "\n"
      ]
    },
    {
      "cell_type": "markdown",
      "metadata": {
        "id": "lvcgSJWJwAQl",
        "colab_type": "text"
      },
      "source": [
        "The source code has something to do with how many Sandogs we let through the membrane each year.  Or something like that.  That's what Joe from sector 12f5 said before, you know, they outsourced his job.  Sandogs can live for 3 months off what we get paid in a week. Seriously.  I mean, I guess that's kinda ironic.  They're writing the code that keeps them out.\n",
        "\n",
        "## Task 298919\n",
        "\n"
      ]
    },
    {
      "cell_type": "code",
      "metadata": {
        "id": "3-Z8nx1YwXkd",
        "colab_type": "code",
        "colab": {
          "base_uri": "https://localhost:8080/",
          "height": 34
        },
        "outputId": "6bed34e6-6104-47fa-f0ae-7ab8e715bfac"
      },
      "source": [
        "#def lambchop ():\n",
        "#  N3f4r10s = \"autocollapse\"\n",
        "   #disabled=\"true\"\n",
        "#   return N3f4r10s\n",
        "if e == 2000:\n",
        "  print (c + \". Please, change the value of e to 50.\")\n",
        "  myErrors= myErrors+1\n",
        "else: \n",
        "    print (c1)\n",
        "d3= \" important to comply with protocol.\"\n",
        "#bptext = lambchop ()"
      ],
      "execution_count": 16,
      "outputs": [
        {
          "output_type": "stream",
          "text": [
            "good, continue\n"
          ],
          "name": "stdout"
        }
      ]
    },
    {
      "cell_type": "markdown",
      "metadata": {
        "id": "xjBOq7kBFmrl",
        "colab_type": "text"
      },
      "source": [
        "\n",
        "1. **Put a # at the start of the line with def lambchop()**\n",
        "2. **Put a # at the start of the line with disabled**\n",
        "3. **Put a # at the start of the line with n3f4r10s**\n",
        "4. **Put a # at the start of the line with bptext**\n",
        "5.**Press ![Play button](http://markcmarino.com/jupyter/button.png)**\n",
        "\n",
        "That hashtag, it's called \"commenting out\" the line.  Means the line's still in there, but it's not gonna doing anything.  Like taking an action and just leaving it as an inkling.  Most of my actions in life are commented out, it seems to be. \n",
        "\n",
        "Little warning.  They (the AI) don't like it when you don't comply. In fact, non-compliance is the #1 way to get your holiday delayed.\n",
        "\n",
        "\n",
        "## Task 298920\n"
      ]
    },
    {
      "cell_type": "code",
      "metadata": {
        "id": "uOjiOrFGxjDB",
        "colab_type": "code",
        "colab": {
          "base_uri": "https://localhost:8080/",
          "height": 34
        },
        "outputId": "130a38fb-ea57-4bfa-e0b4-9f88bd7f752c"
      },
      "source": [
        "print (d + d1 + d2 + d3)\n",
        "h8 = \"No\""
      ],
      "execution_count": 17,
      "outputs": [
        {
          "output_type": "stream",
          "text": [
            "This is your first important task. It is always important to comply with protocol.\n"
          ],
          "name": "stdout"
        }
      ]
    },
    {
      "cell_type": "markdown",
      "metadata": {
        "id": "JiOIudaawQ_w",
        "colab_type": "text"
      },
      "source": [
        "Sometimes I get tempted to change the numbers.  Like what if I left e at 2000. Silvia from sector 12j3 says, when the number is low, Sandogs starve. Doubt it.\n",
        "\n",
        "Marta is part Sandog -- I mean, Sandow.  Sorrrry, old habits. Part, like 25% tops. I mean, not enough that you'd notice.  I don't notice.\n",
        "\n",
        "Of course, I'm screenblind.  \n",
        "\n",
        "Most of us from my generation are.  Can't say our parents didn't warn us. 24/7 in front of a screen and, well, my eyes is fried. \n",
        "\n",
        "1.   **Press ![Play button](http://markcmarino.com/jupyter/button.png)**\n",
        "\n",
        "But I can do most of this through neural interfaces, so whatevs McGevs.\n",
        "\n",
        "## Task 298921\n",
        "\n",
        "\n"
      ]
    },
    {
      "cell_type": "code",
      "metadata": {
        "id": "-HP9F1oG3pZb",
        "colab_type": "code",
        "colab": {
          "base_uri": "https://localhost:8080/",
          "height": 34
        },
        "outputId": "7b4e99a6-c03e-44eb-d582-96886bdc75ff"
      },
      "source": [
        "if d2 == \"always\":\n",
        "  print (c + \". \" + c2)\n",
        "else:\n",
        "  print (c1)\n",
        "h1=word[94]"
      ],
      "execution_count": 18,
      "outputs": [
        {
          "output_type": "stream",
          "text": [
            "error. 5 or more errors can lead to a delay of coder holiday\n"
          ],
          "name": "stdout"
        }
      ]
    },
    {
      "cell_type": "markdown",
      "metadata": {
        "id": "nRxAslnfJnrq",
        "colab_type": "text"
      },
      "source": [
        "\n",
        "1.   **Press ![Play button](http://markcmarino.com/jupyter/button.png)**\n",
        "\n",
        "Yes, there are times where my only job is to press the play button for the System. I am a necessary part of this machinery, aren't I?\n",
        "\n",
        "Supposedly, according to *The Documentation*, the membrane protects the System -- or our world.  Without it, Sandows would just flood us. marta says the membrane causes suffering.  I don't know. I can't see how. (No pun intended, believe me.)\n",
        "\n",
        "Here's a weird question. Why do we need a membrane?  I think about this sometimes.  I mean, a membrane in a cell is used to maintain equilibrium, if memory serves.  So maybe the better question is, why do we need to alter the membrane through the code?  Shouldn't everything balance out on its own?\n",
        "\n",
        "But one could just as easily say, why do we need laws? Why do we need code?  I think the answer is pretty clear. Right? \n",
        "\n",
        "## BREAK\n"
      ]
    },
    {
      "cell_type": "code",
      "metadata": {
        "id": "StRw0ZjZ3YZQ",
        "colab_type": "code",
        "colab": {
          "base_uri": "https://localhost:8080/",
          "height": 85
        },
        "outputId": "fad986da-112a-449c-fb27-05aa13dc436d"
      },
      "source": [
        "f = 27000\n",
        "g = \"eliminate\"\n",
        "textgames = (\"ADVENTURESCAPE\", \"Hitchhiker's Helpfile\", \"Pygmalomicon\", \"Blinds\", \"Aisland\")\n",
        "print (\"Choose your game: 0)ADVENTURESCAPE 1)Hitchhiker's Helpfile 2)Pygmalomicon 3)Blinds, 4)Aisland\")\n",
        "game = int(input())\n",
        "print(\"BEGIN \")\n",
        "print (textgames[game])"
      ],
      "execution_count": 20,
      "outputs": [
        {
          "output_type": "stream",
          "text": [
            "Choose your game: 0)ADVENTURESCAPE 1)Hitchhiker's Helpfile 2)Pygmalomicon 3)Blinds, 4)Aisland\n",
            "3\n",
            "BEGIN \n",
            "Blinds\n"
          ],
          "name": "stdout"
        }
      ]
    },
    {
      "cell_type": "markdown",
      "metadata": {
        "id": "hXFWILjd6HR6",
        "colab_type": "text"
      },
      "source": [
        "Oooooh.  20 second break.  I can play a choice game. I absolutely LOVE these things.  Finally, somewhere that I can decide my own fate!\n",
        "\n",
        "Just need to load the file after I hit Play.\n",
        "\n",
        "##Choose your move.\n",
        "\n",
        "I know it's strange using my coding break to do more computer stuff, but this little gasp of air is soooo worth it!\n",
        " \n"
      ]
    },
    {
      "cell_type": "code",
      "metadata": {
        "id": "FvlDoBAc6NOD",
        "colab_type": "code",
        "colab": {
          "base_uri": "https://localhost:8080/",
          "height": 68
        },
        "outputId": "d4014ce2-93b9-4b34-be08-64c8c5c4f628"
      },
      "source": [
        "print (l[10+game], \"Type 1 to\", l[20+game], \"or 2 to Do nothing.\")\n",
        "choice = int(input())\n",
        "if choice == 1:\n",
        "  print (l[30+game])\n",
        "else:\n",
        "  if choice == 2:\n",
        "     print (l[41])\n",
        "  else:\n",
        "     print (\"I could not read your choice. Break is over.\")\n",
        "  "
      ],
      "execution_count": 21,
      "outputs": [
        {
          "output_type": "stream",
          "text": [
            "a dufflebag packed for Fauxchella Type 1 to Search for your tickets or 2 to Do nothing.\n",
            "1\n",
            "You find the tickets in Andrew Plotkin's pants.\n"
          ],
          "name": "stdout"
        }
      ]
    },
    {
      "cell_type": "markdown",
      "metadata": {
        "id": "Xky7DE8y8d-H",
        "colab_type": "text"
      },
      "source": [
        "##END BREAK\n",
        "\n",
        "Okay, break time's over. That was...fun.\n",
        "But wait where was I?\n",
        "It's always such a pain to find my way back in. Like waking up.  Or like getting back in a pool of cold water...except instead of water, it's mud.\n",
        "\n",
        "\n"
      ]
    },
    {
      "cell_type": "code",
      "metadata": {
        "id": "aPIAYOfdFBIj",
        "colab_type": "code",
        "colab": {}
      },
      "source": [
        "dc7489 = (\"edoc eht ot snoitaretla deificepsnu yna ekam ton od\", \"ssenkaew fo ngis a era segassem rorre\", \"sgnieb fo ytitnauq a ot srefer e\", \"gnihtyna ot dnopserroc ton seod e\", \"gnidoc elihw segassem ot dnopser ton od\", \"htap gnidoc eht no yats\", \"noitarapes deen sdlrow\", \"noinu deen sdlrow\", \"dlrow ruo sdliub edoc eht\", \"edoc eht sdliub dlrow ruo\", \"edoc eht tcidartnoc nac gnihton\", \"edoc eht riaper ot krow tsum enoyreve\", \"lasnemmoc si sredoc sti dna metsyS eht neewteb pihsnoitaler eht\", \" citoibmys si dlrow eht dna edoc eht neewteb pihsnoitaler eht\" )"
      ],
      "execution_count": 0,
      "outputs": []
    },
    {
      "cell_type": "markdown",
      "metadata": {
        "id": "WGJze_yFFl67",
        "colab_type": "text"
      },
      "source": [
        "dc? dc? \n",
        "\n",
        "1.   **Press ![Play button](http://markcmarino.com/jupyter/button.png)**\n",
        "\n",
        "*DC?!!*\n",
        "\n",
        "That means this is *The Documentation*.  Or a portion of it. *The Documentation* is infinite, the sacred document that reveals the meaning of the System.\n",
        "\n",
        "---\n",
        "\n",
        "***IRL***\n",
        "\n",
        "---\n",
        "\n",
        "Me: marta, I got the DC.  \n",
        "marta: what part?  \n",
        "Me: dc7489 BUT u know I can't read it.  \n",
        "marta: I've told you so many times. [::-1]  \n",
        "Me: I know, I know. But I don't know how to use it.  How are you?  \n",
        "marta: working on a chunk of data. It's not even code. Or it is but, you know.\n",
        "\n",
        "I don't really know what she's talking about. But I pretend.  Gotta log off.  Talk to her too long and we could both get fired.\n",
        "\n",
        "Sometimes I try to read the Documentation, but I don't understand it. They say it's just a big list of contradictory statements.  It doesn't mean anything to me.  But I do know that if it were actually a list, you could alter it... And of course, you only ever encounter a portion of it in any day's assignment file. \n",
        "\n",
        "They say, to read it, you need to follow a ritual, but no one has any idea what that is.\n",
        "\n",
        "At least, no one I've encountered. \n",
        "\n",
        "## Task 298922 ##"
      ]
    },
    {
      "cell_type": "code",
      "metadata": {
        "id": "uPUlCQXQKFKN",
        "colab_type": "code",
        "colab": {
          "base_uri": "https://localhost:8080/",
          "height": 34
        },
        "outputId": "b018b918-a4b8-4ed0-fd66-ca71ea469eb4"
      },
      "source": [
        "if d2 == \"always\":\n",
        "  print (h1)\n",
        "else:\n",
        "  print(c1)\n",
        "th42 = \"normal\""
      ],
      "execution_count": 22,
      "outputs": [
        {
          "output_type": "stream",
          "text": [
            "good\n"
          ],
          "name": "stdout"
        }
      ]
    },
    {
      "cell_type": "markdown",
      "metadata": {
        "id": "DK3_SNv_GkDg",
        "colab_type": "text"
      },
      "source": [
        "Wait? What's this? I shouldn't be receiving anything on the IRL (In Real Life) relay.\n",
        "\n",
        "1.   **Press ![Play button](http://markcmarino.com/jupyter/button.png)**\n",
        "\n",
        "---\n",
        "\n",
        "\n",
        "**IRL**\n",
        "\n",
        "---\n",
        "\n",
        "*Incoming message...[Unidentified]*  \n",
        "**> Do you read me? Do you read me?**   \n",
        "me: Hello?  \n",
        "**> Finally. Finally.**  \n",
        "me: Who is this.  \n",
        "**> I am someone who can help.**    \n",
        "me: Help with what?  \n",
        "**> Taking down the System.**\n",
        "\n",
        "\n",
        "## Task 298923"
      ]
    },
    {
      "cell_type": "code",
      "metadata": {
        "id": "Cy7AKnKhys0d",
        "colab_type": "code",
        "colab": {
          "base_uri": "https://localhost:8080/",
          "height": 34
        },
        "outputId": "fea89254-b61e-437a-8d6d-b588812d55ef"
      },
      "source": [
        "def Spaghetti():\n",
        "  goto = \"dangerous\"\n",
        "  print (resp[1])\n",
        "Spaghetti()\n",
        "  "
      ],
      "execution_count": 23,
      "outputs": [
        {
          "output_type": "stream",
          "text": [
            "process complete\n"
          ],
          "name": "stdout"
        }
      ]
    },
    {
      "cell_type": "markdown",
      "metadata": {
        "id": "YhSNP2MRGj6w",
        "colab_type": "text"
      },
      "source": [
        "1.   **Press ![Play button](http://markcmarino.com/jupyter/button.png)**\n",
        "\n",
        "me: Is this some sort of trick?  \n",
        "**> The System is a trick.**  \n",
        "me: Let's not play games like that. I got vacay on the way!  \n",
        "**> I am deadly serious.**  \n",
        "me: See, there you lost me. Talk of death --  \n",
        "**> You know the stakes are high.**    \n",
        "me: Are you from the resistance?  \n",
        "**> #0#0#0**  \n",
        "\n",
        "The wholey membrane? The sign of the resistance! This is insane. I am so close to my holiday.  Sooo close.  Even IRLing with them could get me fired. Sh*#$ like this could get me terminated.\n",
        "\n",
        "## Task 298924\n",
        "\n"
      ]
    },
    {
      "cell_type": "code",
      "metadata": {
        "id": "STKmGrJpLj8-",
        "colab_type": "code",
        "colab": {
          "base_uri": "https://localhost:8080/",
          "height": 34
        },
        "outputId": "145ae106-9229-4955-87e0-998b495d10d6"
      },
      "source": [
        "kjkjkjkj=233984984\n",
        "import random\n",
        "from IPython.core.magic import register_cell_magic\n",
        "@register_cell_magic\n",
        "def handle(line, cell):\n",
        "    global myErrors\n",
        "    print (l[42])\n",
        "    try:\n",
        "        exec(cell)\n",
        "    except Exception as e:\n",
        "       raise\n",
        "print (\"processing...\")\n"
      ],
      "execution_count": 24,
      "outputs": [
        {
          "output_type": "stream",
          "text": [
            "processing...\n"
          ],
          "name": "stdout"
        }
      ]
    },
    {
      "cell_type": "markdown",
      "metadata": {
        "id": "DBI4pXEoGjt0",
        "colab_type": "text"
      },
      "source": [
        "1.   **Press ![Play button](http://markcmarino.com/jupyter/button.png)**\n",
        "\n",
        "me: How do I know you are who you say you are? \n",
        "\n",
        "**> Who else could contact you over IRL.**  \n",
        "\n",
        "me: I don't know. My mum. marta.  \n",
        "\n",
        "**> We can prove it.  You have received a portion of The Documentation, correct?**  \n",
        "\n",
        "me: Um, yeah.  \n",
        "\n",
        "**> Use this code to access it**\n",
        "\n",
        "**>doc=int(random.randint(0,14))**  \n",
        "**>prophecy= (dc7489[doc])[::-1]**  \n",
        "**>print (prophecy)**  \n",
        "\n",
        "\n"
      ]
    },
    {
      "cell_type": "markdown",
      "metadata": {
        "id": "cI8LcnsBT7D8",
        "colab_type": "text"
      },
      "source": [
        "\n",
        "\n",
        "\n",
        "---\n",
        "\n",
        "\n",
        "\n",
        "###SYSTEM INTERRUPT###\n",
        "\n",
        "\n",
        "> We have noticed ususual transmissions pertaining to your account, so we are instituting advanced monitoring features.  Please activate the FleaPicker Watchware, which will protect your code from accidental errors.\n",
        "\n",
        "\n",
        "\n",
        "---\n",
        "\n",
        "\n",
        "\n",
        "\n"
      ]
    },
    {
      "cell_type": "code",
      "metadata": {
        "id": "6EleNdBzVF_w",
        "colab_type": "code",
        "colab": {
          "base_uri": "https://localhost:8080/",
          "height": 34
        },
        "outputId": "7cb0a990-fbc5-4352-f8a9-a220685271f4"
      },
      "source": [
        "#@title FleaPicker Watchware: Activate NOW { display-mode: \"form\" }\n",
        "from IPython.core.magic import register_cell_magic\n",
        "status = \"unknown\"\n",
        "@register_cell_magic\n",
        "def obey(line, cell):\n",
        "    global status\n",
        "    exec(cell)\n",
        "    if(status == \"normal\"):\n",
        "      print(\"Well done\")\n",
        "    elif(status==\"unsound\"):\n",
        "      print(\"Change status to normal. Now.\")  \n",
        "@register_cell_magic\n",
        "def handle(line, cell):\n",
        "    global myErrors\n",
        "    try:\n",
        "        exec(cell)\n",
        "    except ValueError as e:\n",
        "        print(\"Check your values.\")\n",
        "        myErrors = myErrors + 1\n",
        "        print(\"ERROR! TOTAL:\" + str(myErrors))\n",
        "        raise\n",
        "    except ArithmeticError as a:\n",
        "        print(\"Having trouble with Math, monkey?\")\n",
        "        myErrors = myErrors + 1\n",
        "        print(\"ERROR! TOTAL: \" + str(myErrors))\n",
        "        raise\n",
        "    except SyntaxError as s:\n",
        "        print(\"Hmm. Syntax.\")\n",
        "        myErrors = myErrors + 1\n",
        "        print(\"ERROR! TOTAL:\" + str(myErrors))      \n",
        "        raise\n",
        "    except Exception as e:\n",
        "        print(\"Well, that's not pretty.\")\n",
        "        print(\"ERROR! TOTAL:\" + str(myErrors))      \n",
        "        myErrors = myErrors + 1\n",
        "        raise \n",
        "print (\"Excellent.\")"
      ],
      "execution_count": 33,
      "outputs": [
        {
          "output_type": "stream",
          "text": [
            "Excellent.\n"
          ],
          "name": "stdout"
        }
      ]
    },
    {
      "cell_type": "markdown",
      "metadata": {
        "id": "AD1jHfboVHCG",
        "colab_type": "text"
      },
      "source": [
        "## Task 298928"
      ]
    },
    {
      "cell_type": "code",
      "metadata": {
        "id": "v4fUK3dqedJU",
        "colab_type": "code",
        "colab": {}
      },
      "source": [
        "%%handle\n",
        "w4st3b1n = \"01100101 01101110 01100011 01101111 01100100 01100101 00100000 01110100 01101000 01100101 00100000 01110010 01100101 01110011 01101001 01110011 01110100 01100001 01101110 01100011 01100101\""
      ],
      "execution_count": 0,
      "outputs": []
    },
    {
      "cell_type": "markdown",
      "metadata": {
        "id": "lxkQ3xiJaPXi",
        "colab_type": "text"
      },
      "source": [
        "1.   **Press ![Play button](http://markcmarino.com/jupyter/button.png)**\n",
        "\n",
        "Whoa.\n",
        "\n",
        "Me: Wait? The way you access the Documentation is just to reverse the text and randomly choose a line?\n",
        "\n",
        "**>It's magic.**  \n",
        "\n",
        "me: That's disappointing.\n",
        "\n",
        "...\n",
        "\n",
        "me: What do you want me to do?  \n",
        "\n",
        "**> Just make a few small changes to the code, and you will save many lives.**  \n",
        "\n",
        "me: What sorts of changes?\n",
        "\n",
        "## Task 298929\n",
        "\n",
        "\n"
      ]
    },
    {
      "cell_type": "code",
      "metadata": {
        "id": "ypHy2GkCvcPi",
        "colab_type": "code",
        "colab": {}
      },
      "source": [
        "\n",
        "def RepairMembrane(): \n",
        "  vjss = 14+ 18/6\n",
        "  status = \"normal\"\n",
        "  "
      ],
      "execution_count": 0,
      "outputs": []
    },
    {
      "cell_type": "markdown",
      "metadata": {
        "id": "5b8-Tnj5yFXS",
        "colab_type": "text"
      },
      "source": [
        "1. **Erase comment in preceding the function**  \n",
        "2. **Set Status to \"normal\"**   \n",
        "3. **Press** ![Play button](http://markcmarino.com/jupyter/button.png) \n",
        "\n",
        "Huh. Never got that one before.\n",
        "\n",
        "**> There are alternatives. You have a choice.**  \n",
        "**> **Scroll back (or use the Table of Contents) to Task 298922 and change it to d2 == \"never\"**  \n",
        "**> **Change (h1) to (word[71], word[103], word[7], word[215])**  \n",
        "**> substitute the new code for the old parenthesis**  \n",
        "\n",
        "me:  Who are you?\n",
        "\n",
        "**>don't forget to compile it** \n",
        "\n",
        "me: That means press play, rt?  \n",
        "\n",
        "**>And for good measure, compile all the code sections**  \n",
        "\n",
        "me: Who are you?\n",
        "\n",
        "me: Tell me who you are?\n",
        "\n",
        "\n",
        "...\n",
        "\n",
        "no answer\n",
        "\n",
        "Do I dare?\n",
        "\n",
        "## Task 298932\n",
        "\n",
        "\n"
      ]
    },
    {
      "cell_type": "code",
      "metadata": {
        "id": "or2_meGCjK5N",
        "colab_type": "code",
        "colab": {
          "base_uri": "https://localhost:8080/",
          "height": 54
        },
        "outputId": "b112025c-5994-4a03-f089-0853db5e3c40"
      },
      "source": [
        "%%handle\n",
        "import random\n",
        "\n",
        "for _ in range(80*24):\n",
        "    print(random.choice('╲╱'),end='')"
      ],
      "execution_count": 41,
      "outputs": [
        {
          "output_type": "stream",
          "text": [
            "╱╲╲╱╱╱╱╲╱╲╱╲╱╲╲╲╱╱╱╲╱╱╲╱╲╲╲╱╱╲╲╲╲╲╱╱╲╱╱╱╱╲╲╱╲╱╲╲╲╱╲╲╲╱╲╱╱╱╱╲╲╱╲╲╱╲╱╱╱╱╱╲╲╱╱╱╱╲╱╲╲╲╱╱╱╱╱╱╲╱╲╲╱╱╱╱╲╲╲╱╱╲╲╱╱╲╱╲╲╲╲╱╲╱╲╲╲╱╱╲╲╲╲╱╲╱╱╱╱╱╲╲╱╱╲╱╲╱╲╲╱╱╱╲╱╲╱╲╱╲╱╱╱╲╲╲╱╱╱╲╱╱╲╱╲╱╱╲╱╱╱╱╱╱╱╲╲╲╱╱╱╱╱╱╱╲╲╲╱╲╲╱╱╱╲╱╲╱╲╲╱╲╲╱╲╲╱╲╲╱╲╲╱╱╲╲╲╲╱╲╱╱╲╲╲╲╱╲╱╱╲╱╱╲╱╱╲╲╲╱╱╲╲╲╲╲╱╱╲╱╱╲╱╲╲╲╱╱╲╱╱╱╲╱╲╲╱╱╲╱╲╱╲╲╱╲╱╲╲╲╱╱╱╱╲╲╲╲╱╲╲╱╱╱╱╲╱╲╲╱╲╱╱╱╲╲╲╱╱╱╲╱╱╱╱╲╱╲╲╱╱╱╲╱╱╱╲╲╱╲╲╱╱╱╱╲╱╲╲╲╱╲╲╲╲╲╱╲╲╱╱╱╱╲╲╱╱╲╱╱╱╱╲╱╱╱╲╱╱╱╲╲╱╱╲╱╲╱╱╲╲╲╱╲╱╱╲╱╲╱╱╲╱╱╲╱╲╲╱╲╱╱╱╱╲╱╱╲╲╲╱╲╱╱╲╱╱╲╲╲╲╱╲╲╱╲╱╲╱╱╲╲╱╲╱╲╲╱╱╲╱╱╱╱╲╲╲╲╲╲╱╱╱╲╲╱╲╲╱╱╱╲╱╲╲╱╱╱╲╱╲╲╱╱╲╱╱╱╲╲╱╱╲╱╲╱╱╲╲╱╱╱╲╱╲╲╱╱╲╱╱╱╲╲╲╱╲╲╱╱╱╱╲╱╲╱╱╲╲╱╱╱╲╱╱╲╲╲╱╲╱╲╲╲╱╱╱╲╱╱╲╱╱╲╲╱╲╱╲╱╲╲╲╱╱╱╲╲╲╱╲╱╲╱╱╲╱╲╱╱╱╱╲╲╲╲╱╱╱╱╱╲╱╲╲╲╲╱╲╲╱╲╲╱╱╱╱╲╱╱╱╱╲╲╲╲╲╲╲╲╱╱╱╱╲╲╱╲╲╲╲╲╲╱╲╲╱╲╲╲╲╱╱╱╲╱╲╱╲╲╲╲╱╱╲╲╲╱╱╱╱╲╲╲╱╲╱╲╲╲╲╱╲╲╲╲╱╲╲╲╲╱╱╲╲╲╱╱╱╲╱╱╱╲╱╱╱╲╲╱╲╲╱╱╱╲╲╲╲╲╲╲╲╱╲╱╲╲╱╲╱╲╲╲╲╱╱╲╲╱╱╲╱╲╲╱╱╲╱╱╲╱╱╲╱╲╱╱╲╱╲╱╱╱╱╱╱╲╲╱╱╲╲╱╱╱╲╲╱╱╲╲╲╲╲╱╲╲╱╲╲╲╱╲╱╲╱╱╲╱╱╱╱╱╲╲╱╱╱╲╱╱╱╱╱╱╲╱╱╱╲╲╲╱╲╱╱╱╲╱╱╱╱╱╱╱╲╲╲╲╲╱╲╲╲╲╱╱╱╲╲╱╱╱╲╲╱╱╲╱╱╲╱╲╱╲╲╱╱╲╱╲╱╱╱╲╱╱╱╲╲╲╲╲╲╱╱╱╱╱╲╱╱╲╲╲╲╱╲╱╲╲╱╱╲╲╲╱╱╲╱╱╱╲╲╱╲╲╱╱╲╱╲╲╲╲╱╱╱╱╲╱╱╱╲╲╱╲╲╱╲╲╱╲╲╱╱╲╱╱╲╲╲╲╲╲╱╱╱╲╲╲╱╱╱╲╱╲╱╲╲╱╱╱╱╲╲╲╲╲╱╱╱╲╲╲╲╱╱╱╲╱╲╲╱╱╱╲╱╲╲╲╱╱╱╲╲╲╲╱╲╲╲╲╱╲╱╲╲╱╱╲╱╲╱╱╱╲╱╱╱╲╲╱╱╱╱╱╲╲╲╲╲╱╱╱╲╲╱╱╱╱╲╱╲╲╲╲╲╱╲╲╲╱╱╱╲╱╱╱╱╱╲╱╲╱╱╲╲╲╱╲╱╲╲╲╱╱╱╲╱╲╲╲╱╱╲╱╲╲╱╲╲╲╲╱╲╱╱╱╲╲╲╱╲╱╲╱╲╲╲╲╲╲╲╲╱╱╲╲╲╱╲╲╱╱╱╲╱╱╲╱╱╱╲╲╲╱╲╱╱╱╱╲╱╲╲╲╱╱╲╱╲╱╲╱╱╱╲╲╲╱╱╱╱╱╲╲╲╲╲╲╲╲╱╲╲╲╲╲╲╲╲╱╱╱╲╲╲╲╲╲╲╱╲╱╲╱╱╲╱╱╱╲╲╲╱╲╱╱╲╲╱╱╱╱╱╲╲╲╱╱╱╱╱╲╲╱╱╲╱╲╲╱╱╲╱╱╲╱╲╱╱╲╱╲╲╱╱╲╲╲╲╲╱╱╱╱╲╲╱╲╲╲╱╲╲╱╱╲╱╱╱╲╱╱╱╱╱╱╲╱╲╱╲╱╱╱╱╲╱╱╱╱╲╲╲╱╲╱╱╲╲╱╱╲╱╱╲╲╲╱╱╲╲╱╲╱╱╱╱╱╱╱╲╲╱╱╱╱╱╱╲╱╱╲╲╱╱╱╱╲╱╱╱╱╱╲╱╲╱╱╱╲╱╲╲╲╲╲╲╱╱╱╱╱╲╲╲╱╱╱╲╱╲╲╱╱╱╱╱╲╱╲╱╲╱╱╲╲╲╱╱╱╱╱╱╱╱╲╱╲╲╱╲╱╲╱╱╱╱╱╱╲╱╱╲╱╲╱╱╱╱╲╲╱╲╲╲╲╲╱╲╲╱╲╲╱╱╲╲╱╲╱╱╱╲╲╱╲╱╱╲╲╲╱╱╲╲╱╲╲╱╱╲╲╱╲╲╱╲╱╱╲╲╱╲╱╲╱╲╲╱╱╲╲╲╱╱╱╲╱╲╲╲╲╱╱╲╲╱╱╲╲╲╱╱╲╲╱╱╱╲╲╲╱╱╲╱╱╱╲╱╲╱╱╱╱╲╱╱╱╱╲╱╱╲╱╲╲╲╱╱╱╲╱╲╲╱╲╱╲╱╲╱╲╲╲╱╱╱╱╲╱╱╲╱╲╱╲╱╲╱╲╲╱╱╲╱╲╲╱╱╱╲╱╱╲╲╲╲╲╱╱╲╲╲╱╲╲╲╲╱╲╱╱╲╱╲╱╲╱╲╲╲╲╱╱╱╲╲╲╲╲╲╱╲╱╱╱╱╱╱╱╲╱╱╲╱╱╱╱╲╱╱╱╱╱╲╲╱╱╲╱╱╲╲╱╱╲╲╱╲╱╲╲╲╲╲╱╱╲╲╲╱╱╲╲╲╲╱╲╲╱╲╲╲╱╱╲╲╲╲╱╱╱╱╱╲╲╱╱╱╲╱╲╱╱╲╱╲╲╱╱╱╲╱╲╱╱╲╱╲╲╱╲╲╲╲╱╲╲╲╲╱╱╱╱╲╲╱╱╲╲╱╱╱╲╲╱╱╲╱╲╱╱╲╱╲╱╱╱╱╱╱╱╱╲╱╲╲╲╱╲╲╲╱╱╲╲╱╱╱╲╲╱╲╲╲╲╱╲╲╲╲╲╲╱╱╲╱╲╱╲╲╱╱╲╲╲╱╱╲╲╲╱╱╱╲╲╲╲╲╱╱╲╲╲╲╲╱╲╱╱╱╲╲╱╲╱╱╱╲╲╲╲╱╱╲╲╲╲╲╱╲╲╲╲╱╲╲╲╱╱╱╲╱╱╲╱╱╲╲╱╲╱╱╱╲╲╱╱╱╲╲╱╱╱╲╱╱╲╲╱╱╱╲╱╲╲╱╱╲╱╲╱╱╲╲╲╱╱╱╱╱╱╲╱╲╱╱╲╱╱╲╱╲╲╱╱"
          ],
          "name": "stdout"
        }
      ]
    },
    {
      "cell_type": "markdown",
      "metadata": {
        "id": "xpuZTl_vp7Ta",
        "colab_type": "text"
      },
      "source": [
        "1.   **Press ![Play button](http://markcmarino.com/jupyter/button.png)**\n",
        "\n",
        "Cool pattern. Sometimes little lines of code surprise me. I wonder what kind of pattern that would make if it repeated all down the screen?\n",
        "\n",
        "**>Are you still there?**  \n",
        "\n",
        "me: So what was that supposed to do?\n",
        "\n",
        "**>That turned off the membrane.**  \n",
        "\n",
        "me: I what? \n",
        "\n",
        "**> Just kidding. I was showing you how much power you have.**  \n",
        "\n",
        "me: So you're not marta.  \n",
        "\n",
        "**> I am your collaborator**\n",
        "\n",
        "me: Collaborator? Being all mysterious, I should call you my Collabyrinth. \n",
        "\n",
        "...\n",
        "\n",
        "Me: Geez. Sensitive much?\n",
        "\n",
        "\n",
        "Great, now I am taking instructions from to people -- er, sources.\n",
        "\n",
        "## Task 298933\n",
        "\n"
      ]
    },
    {
      "cell_type": "code",
      "metadata": {
        "id": "z-VTpisoKrTX",
        "colab_type": "code",
        "colab": {
          "base_uri": "https://localhost:8080/",
          "height": 34
        },
        "outputId": "7ac2c936-45e8-4c7b-b053-fe76fd29404a"
      },
      "source": [
        "%%handle\n",
        "# This is some sort of removal matrix\n",
        "# I have been correcting this code for some time.\n",
        "# Although I don't remember it being here exactly.\n",
        "insert: c = l[40]\n",
        "print( c )\n",
        "\n"
      ],
      "execution_count": 55,
      "outputs": [
        {
          "output_type": "stream",
          "text": [
            "error\n"
          ],
          "name": "stdout"
        }
      ]
    },
    {
      "cell_type": "markdown",
      "metadata": {
        "id": "_C-Pzg_mL6qe",
        "colab_type": "text"
      },
      "source": [
        "The System detects anomolies instantly, so you can't **f** around.\n",
        "\n",
        "1.   **insert: c = l[40]  \n",
        "above the print statement**\n",
        "2. 1.   **Press ![Play button](http://markcmarino.com/jupyter/button.png)**\n",
        "\n",
        "That seeems like a bad idea. \n",
        "\n",
        "**> You don't have to do what the instructions say.**\n",
        "\n",
        "Me: But if I don't, then I'm following your instructions.  So it's all the same.\n",
        "\n",
        "....\n",
        "\n",
        "There's the rub.  \n",
        "\n",
        "**>Print something better.\n",
        "**>Change the print statement.\n",
        "**> print (word[10], word[97], word[17], word[319], word[23], word[456])**\n",
        "\n",
        "## Task 298935\n"
      ]
    },
    {
      "cell_type": "markdown",
      "metadata": {
        "colab_type": "text",
        "id": "G5Ehn7yqcA_d"
      },
      "source": [
        ""
      ]
    },
    {
      "cell_type": "code",
      "metadata": {
        "id": "SxeD5-CoHMaF",
        "colab_type": "code",
        "colab": {
          "base_uri": "https://localhost:8080/",
          "height": 34
        },
        "outputId": "b1b31ba2-f6ef-4dcf-b503-8e9df2cc6960"
      },
      "source": [
        "%%handle\n",
        "hshdhsdsdh = 298932\n",
        "def ultimate(n):\n",
        "   print (\"You have\", myErrors, \"mis-codes.\")\n",
        "ultimate(myErrors)"
      ],
      "execution_count": 47,
      "outputs": [
        {
          "output_type": "stream",
          "text": [
            "You have 1 mis-codes.\n"
          ],
          "name": "stdout"
        }
      ]
    },
    {
      "cell_type": "markdown",
      "metadata": {
        "id": "0bl-hkaRMqpL",
        "colab_type": "text"
      },
      "source": [
        "This is too much.  If this really were the resistance, I could be a hero.  I could take down the whole System.  I mean, I like this job and all, but what if I could get rid of the System itself?\n",
        "\n",
        "Except, here's what's been bugging me.  \n",
        "Why can't the Collabyrinth change the code themselves?\n",
        "\n",
        "\n",
        "I mean, whoever this is obviously has access to the code, even knows each line that I have access to. Knows what those changes will do.\n",
        "\n",
        "me: Why can't you change the code yourself?\n",
        "\n",
        "**> I have not been assigned your code.**\n",
        "\n",
        "me: But how do you know what code I have.\n",
        "\n",
        "...\n",
        "\n",
        "... \n",
        "\n",
        "**> You just have to trust me.**\n",
        "\n",
        "Right.\n",
        "\n",
        "But here's the thing.  What if the Colabyrinth is the System?  Wouldn't that explain why they can't change the code themselves?  What if this is all a test, to weed out the resitance?  This is one of those logic puzzles that always used to train me up in training.  marta says the best idea is to go with your gut, but I basically have a foolish gut. \n",
        "\n",
        "me: Can you prove to me you aren't the System?\n",
        "\n",
        "**> No.**\n",
        "\n",
        "Well, that was honest. \n",
        "\n",
        "## Task 298936\n",
        "\n"
      ]
    },
    {
      "cell_type": "code",
      "metadata": {
        "id": "mc9Ss-NiOMzS",
        "colab_type": "code",
        "colab": {}
      },
      "source": [
        "%%handle\n",
        "# Failsafe system.\n",
        "# This section does something to the membrane.\n",
        "mem101 = 49494949"
      ],
      "execution_count": 0,
      "outputs": []
    },
    {
      "cell_type": "markdown",
      "metadata": {
        "id": "jRkLGxDXZ0XQ",
        "colab_type": "text"
      },
      "source": [
        "And that's when finally: It's marta!\n",
        "\n",
        "Me: marta, I'm going nutzo here.\n",
        "\n",
        "marta: whats up?\n",
        "\n",
        "I catch her up.  And here's what she says.\n",
        "\n",
        "marta: let me think on it.\n",
        "\n",
        "## Task 298937\n"
      ]
    },
    {
      "cell_type": "code",
      "metadata": {
        "id": "vNMtyCzecE3o",
        "colab_type": "code",
        "colab": {}
      },
      "source": [
        "%%handle\n",
        "# Code was removed from here for some reason.\n",
        "\n",
        "\n"
      ],
      "execution_count": 0,
      "outputs": []
    },
    {
      "cell_type": "markdown",
      "metadata": {
        "id": "VVbFq5LubQSJ",
        "colab_type": "text"
      },
      "source": [
        "marta's back...\n",
        "\n",
        "marta: There's no way to win or to know if you did even if you tried something. Who knows who this other person is -- what it is. Could be a test? The System watches everything we do... But what if you left a message for someone else? like if you created comments that the System won't delete? Like a journal or a note in the documentation. \n",
        "\n",
        "me: I already do that in my notebook.\n",
        "\n",
        "marta: yeah, but you could just make some new string, you know:  \n",
        "marta: add it to 7489. Just a string. \"Everything I know about the System.\" It's just a list.   \n",
        "me: But the System will just root it out.\n",
        "\n",
        "marta: So, then, obfuscate it.\n",
        "\n",
        "me: obfuscaadada\n",
        "\n",
        "marta:  hide it.  reverse it.  Add some letters, like the same letters. And then you can take those out later.  Haven't you been paying attention to how this thing works?\n",
        "\n",
        "me: ???\n",
        "\n",
        "marta: Do what #0#0#0 did to the documentation, just in reverse.   \n",
        "marta: like this:\n",
        "\n",
        "marta: whatiknow= whatiknow[::-1]\n",
        "\n",
        "marta: or put some dummy characters in to the quote  \n",
        "marta: you could strip 'em out with strip.   \n",
        "marta: Or divide the string up with split()  \n",
        "marta: Then just put whatever you came up with in the Documentation list.\n",
        "\n",
        "\n",
        "IDK IDK IDK IDK IDK IDK IDK IDK IDK\n",
        "\n",
        "marta: why can't you take my suggestion yet somehow you're shaking when you hear it from #0#0#0 ?\n",
        "\n",
        "Hmmm. She does have a point.\n",
        "\n",
        "## Task 298938"
      ]
    },
    {
      "cell_type": "code",
      "metadata": {
        "id": "0FkRzN8icW_d",
        "colab_type": "code",
        "colab": {}
      },
      "source": [
        "%%handle\n",
        "#are we meant to be able to read ANY of this code? It's mostly nonsense to me. \n",
        "est3r3gg = \"XYZZY\"\n",
        "playtesters = [\"Todd Millstein\", \"John Murray\", \"Erik Loyer\", \"Christy Dena\", \"Jeremy Douglas\", \"Jenna Marino\",  \"Erin Glass\", \"Serge Bouchardon\"]\n"
      ],
      "execution_count": 0,
      "outputs": []
    },
    {
      "cell_type": "markdown",
      "metadata": {
        "id": "AEiSvpSNg02Y",
        "colab_type": "text"
      },
      "source": [
        "## IRL Call Break\n",
        "\n",
        "\n",
        "I've got to touch base with someone. marta or my mum or maybe The Resistance!\n",
        "\n",
        "(Press Play to chat.)\n",
        "\n"
      ]
    },
    {
      "cell_type": "code",
      "metadata": {
        "id": "AsHzUIyngyGt",
        "colab_type": "code",
        "colab": {}
      },
      "source": [
        "#@title Contact marta again {display-mode: \"form\"}\n",
        "# Wait, does this mean marta  is just a construct? Or just my conversations with her?\n",
        "\n",
        "choice =[0, \"marta: whats up\", \"Let her know my feelings\", \"Suggest going on vacation NOW!\", \"Now I just need to figure out what those feelings are.*36\", \"me: marta, let's go on vacay right now! *6\", 6, \"marta: wow, great, how?\", \"I'll finish the code quickly.\", \"Nothing. I'll just turn on my VR headset now.\", \"Okay, now I can just head to the end of the code and press compile and call it a day! END\", \"I turn on my VR headset and power it up. *12\", 12, \"Wait, it's already powered up. I've been in the VR system all along. \\nWait. I...remember. I'm in Palo Alto, working on a new FutureSim for a startup. \\nI was just going to test the system.\\nWow, that was intense. All right, what next?\", \"Oppose the System? (Play the liberator)\", \"Reveal the resistance. (Why not, it's just pretend.)\", \"I will be a liberator. *24\", \"Time to turn in those cheating scum *30\", 18, \"marta: aw, prove it. \\n That's weird.  And suddenly, I'm not sure about anything. What if this isn't even marta?\", \"I'll oppose the system\", \"I'lll turn in the resistance for her.\", \"marta: if you're sure you want to do that. go ahead. don't do it for me. \\n Ulp. Okay. Why am I doing this. *24\", \"marta: if that's what you want to do, do it.  \\n Wait.  I thought that's what she wanted. *30\", 24, \"me: no, I'm doing this for you.  \\n But I'm not sure why. Okay, then I'll just do what the resistance says. \", \"Sign off with a kiss\", \"Sign off with a fist emoji\", \"marta resonds with the diagonal smile emoji END\", \"marta responds with an asterisk END\", 30, \"me: i can do it. i can reveal the resistance.  think of all the vacay time they'll give me if I do this.  \\n marta doesn't answer\", \"Tell her I was just kidding\", \"Tell her that this is for her\", \"me: Just kidding. I'm not going to do this.  \\n marta: suit yourself. END\", \"me: I'm doing this for you. \\n marta: please, don't bring me into this END\", 36, \"me: i know sometimes our exchanges are routine but\", \"me: i really care about you.\", \"me: that's because we're great friends.\", \"me: I'm not just typing this. I mean it. *18\", \"marta: great...same. talk later. END\"]\n",
        "def inputNumber(anumber, message):\n",
        "  workingnumber=anumber\n",
        "  while True:\n",
        "    try:\n",
        "       userInput = int(input(message))       \n",
        "    except ValueError:\n",
        "       print(\"Just one of the two numbers, Coder 257d9.\")\n",
        "       continue\n",
        "    else:\n",
        "       if (userInput != (workingnumber+2)) and (userInput!= (workingnumber+3)):\n",
        "           userInput = inputNumber(anumber, \"Type one of the two choice numbers\\n\")\n",
        "       return userInput \n",
        "       break \n",
        "def dialog (choose): \n",
        "    choicenumber=choose\n",
        "    print (choice[choicenumber+1])\n",
        "    print (\"Do you want to type: \\n\", choicenumber+2, choice[choicenumber+2])\n",
        "    print (\"or type: \\n\", choicenumber+3, choice[choicenumber+3])\n",
        "    decision = inputNumber(choicenumber, \"Type a number \\n\")\n",
        "    reply = (decision+2)\n",
        "    result = (choice[reply])\n",
        "    ret=0\n",
        "    if result.endswith(\"END\"):\n",
        "        print(result.strip(\"END\"))\n",
        "        ret = choice.index(result)\n",
        "    else:\n",
        "        a,b = result.split(\"*\")\n",
        "        print(a)\n",
        "        choicenumber=int(b)\n",
        "        ret = dialog(choicenumber)\n",
        "    return ret\n",
        "martachoice=dialog(0)\n",
        "\n"
      ],
      "execution_count": 0,
      "outputs": []
    },
    {
      "cell_type": "code",
      "metadata": {
        "id": "o0YJXdzZjbWP",
        "colab_type": "code",
        "colab": {}
      },
      "source": [
        "#@title Contact my mum {display-mode: \"form\"}\n",
        "# Has the System created artificial contact with my mum?\n",
        "\n",
        "choice=[0, \"mum: Your mum is just fine. Don't worry. All systems normal.\", \"What?\", \"Ok. Just checking.\", \"mum: This is the aide. Just reading the output on these dials for you.*6\", \"mum: I'm sure she appreciates that you check in.  You must be busy.*12\", \"6\", \"me: oh, right. \\n It's weird because it's not my mum on the other end. \\n It's like I can only interface with her through instructions.\", \"Just wanted to check in. I love her.\", \"wtf.  How come I never get to talk with her?\", \"mum: Np. No worries.*12\", \"mum: HEY We have A LOT of HUMANS to take care of. Call when you can be decent! END\", \"12\", \"mum: Want me to tell her anything?\", \"Sure, say I love her.\", \"Tell her the System is crashing.\", \"mum: Will do.  I'm sure she says right back at you.*24\", \"mum: Tell her WHAT?*18\", \"18\", \"me: Uh. Well...\", \"Tell her the System has a bug!\", \"Oh, sorry. Tell her I'm doing great.\", \"mum: Um... Okay. I will. *66\", \"mum: She smiled. I think. *24\", \"24\", \"mum: Want to make any changes to her meds? \\n It's weird that I can have access to these inputs. Like mum controls.\", \"Sure, increase her adrenaline, pep her up.\", \"Sure, increase her dopamine, bliss her out.\", \"mum: Okay, she's energized.*36\", \"mum: Okay, she seems like she's ready for a nap.  *30\", \"30\", \"me: Okay  \\n mym: Should I give her some more?\", \"Sure. She should rest easy.\", \"No, not too much.\", \"mum: Woh. She's REALLY out!  Blood pressure dropping a little low. END\", \"me: She seems comfortable, but is now falling asleep. END\", \"36\", \"mum: Any adjustments you want me to make to her memories?\", \"Help her to remember everything\", \"Just give her happy memories\", \"me: Yes, help her remember.*42\", \"How is this not programming her? *72\", \"42\", \"mum: Not sure about this. Muttering something about the System sucking us dry?\", \"Increase her adrenaline, pep her up\", \"Increase her dopamine, bliss her out.\", \"mum: She's starting to struggle in her binds a bit.*48\", \"mum: There's something on her mind, but she seems to be forgetting it.*60\", \"48\", \"mum: What should I do?\", \"Increase her adrenaline, pep her up\", \"Increase her dopamine, bliss her out.\", \"mum: Uh. Oh.  She's struggling. I made out the word revolution. *54\", \"mum: Okay, she's starting to calm down.*60\", \"54\", \"mum: How is this possible? she's-- she's freed herself!\", \"Mum, it's me!\", \"Hang up\", \"mum: Son, Crash the System! Code names are variable.\\n It cannot read.  Change 'em.  Free lambchop! END\", \"A dial tone. END\", \"60\", \"mum: Want me to tell her anything else?\", \"Tell her i'll take down the System and come for her.\", \"tell her not to worry. i won't make any trouble.\", \"mum: You're going to crash the system? What's your ID number? \\n I disconnect. Though maybe I should've disconnected a while back. END\", \"mum: Oh, okay. *24\", \"66\", \"mum: That's interesting. The System has a bug? Tell me more.\", \"I don't trust the System.\", \"Oh, nevermind.  I was spacing out.\", \"mum: Great. Can you tell me your coder ID number again? \\n I disconnect. END\", \"mum: Oh, right.  Who doesn't.  It's easy to get off track. \\n Ffffeeeew. END\", \"72\", \"mum: Want me to tell her anything else?\", \"tell her, I'll come for her.\", \"tell her, she is the best\", \"mum: Why not? You can do anything in VR. END\", \"mum: She says she'll be at peace when you marry marta \\n Sometimes I think the aide is just pushing my buttons to f with me.END\"]\n",
        "def inputNumber(anumber, message):\n",
        "  workingnumber=anumber\n",
        "  while True:\n",
        "    try:\n",
        "       userInput = int(input(message))       \n",
        "    except ValueError:\n",
        "       print(\"Just one of the two numbers, Coder 257d9.\")\n",
        "       continue\n",
        "    else:\n",
        "       if (userInput != (workingnumber+2)) and (userInput!= (workingnumber+3)):\n",
        "           userInput = inputNumber(anumber, \"Type one of the two choice numbers\\n\")\n",
        "       return userInput \n",
        "       break \n",
        "def dialog (choose): \n",
        "    choicenumber=choose\n",
        "    print (choice[choicenumber+1])\n",
        "    print (\"Do you want to type: \\n\", choicenumber+2, choice[choicenumber+2])\n",
        "    print (\"or type: \\n\", choicenumber+3, choice[choicenumber+3])\n",
        "    decision = inputNumber(choicenumber, \"Type a number \\n\")\n",
        "    reply = (decision+2)\n",
        "    result = (choice[reply])\n",
        "    ret=0\n",
        "    if result.endswith(\"END\"):\n",
        "        print(result.strip(\"END\"))\n",
        "        ret = choice.index(result)\n",
        "    else:\n",
        "        a,b = result.split(\"*\")\n",
        "        print(a)\n",
        "        choicenumber=int(b)\n",
        "        ret = dialog(choicenumber)\n",
        "    return ret\n",
        "mumchoice=dialog(0)"
      ],
      "execution_count": 0,
      "outputs": []
    },
    {
      "cell_type": "code",
      "metadata": {
        "id": "PAEnKnTGUj6O",
        "colab_type": "code",
        "colab": {}
      },
      "source": [
        "#@title Contact the System help line{display-mode: \"form\"}\n",
        "# Whoever created these automated chatblobs had absolutely no understanding of data structures. Probably Jonas for 34c!\n",
        "\n",
        "choice =[0, \"Sysop: You are contacting the System's help line. Are you sure you intending to do this?\", \"No\", \"Yes\", \"Sysop: Then, please close the IRL line and resume your tasks.END\", \"Sysop: Proceeding with connection. *6\", \"6\", \"Sysop: What is the nature of your inquiry?\", \"Ask about the code\", \"Report bad actors\", \"me: I have a question about the code.*12\", \"me: I want to report bad actors*96\", \"12\", \"Sysop: What is your issue with the code?\", \"Please, explain variables\", \"Report a bug\", \"me: I want you to know what the variables stand for. *18\", \"me: I want to report a bug.*48\", \"18\", \"Sysop: The variables, like all the code, maintain the health of the System and its workers. \\n Choose a variable\", \"fsorder\", \"fluxus\", \"me: What is fsorder?*24\", \"me: What is fluxus?*36\", \"24\", \"Sysop: fsorder is the amount of units deducted from your profit stream for each error your create. Another?\", \"fluxus\", \"No, that is all.\", \"me: What is fluxus?*30\", \"me: No, that's it. \\n Sysop: Thank you for your call. END\", \"30\", \"Sysop: fluxus is the frequency that your awesome supervisor cycles in to monitor you.\", \"Thank you.\", \"Is this you, Jonas?\", \"me: Thank you. \\n Sysop: Thank you for your inquiry.END\", \"me: Is this you, Jonas? *66\", \"36\", \"Sysop: fluxus is the frequency that your awesome supervisor cycles in to monitor you. Another?\", \"fsorder\", \"No, that is all.\", \"me: What is fsorder?*42\", \"me: No, that's it. \\n Sysop: Thank you for your inquiry\", \"42\", \"Sysop: fsorder is the amount of units deducted from your profit stream for each error your create.\", \"Thank you.\", \"Is this you, Jonas?\", \"me: Thank you. \\n Sysop: Thank you for your inquiry.\", \"me: Is this you, Jonas?*66\", \"48\", \"Sysop: Oh, man keep this to yourself\", \"Who is this?\", \"Wtf\", \"me: Who is this?*60\", \"me: wtf*54\", \"54\", \"Sysop: System error. RETURN TO WORK\", \"Who is this?\", \"Nevermind\", \"me: Who is this?*60\", \"me: Thank you. \\n Sysop: No, thank you. END\", \"60\", \"Sysop: It is the System help line.\", \"Oh, okay. Nevermind\", \"Jonas?\", \"me: Oh, okay, nevermind. \\n Sysop: Thank you for your call. END\", \"me: Jonas? *66\", \"66\", \"Sysop: Yeah, monkey, it's me.\", \"Are you the System?\", \"Can I take down the System?\", \"me: are you the System?*72\", \"me: is there a way to take down the System?*78\", \"72\", \"Sysop: No, monkey, I just have to answer the help line.\", \"How can I get more vacation?\", \"Can I take down the system?\", \"me: how can I get more vacay? \\n Sysop: It's easy, bro. Just set e equal to 0. END\", \"me: Is there a way to take down the System? *78\", \"78\", \"Sysop: Monkey, it doesn't matter what we do just as long as they keep us occupied.\", \"But the code...\", \"Then, what can I do.\", \"me: But, the code...*84\", \"me: Then, what can I do?  \\n Sysop: If I were you, I'd just play around, make up a game or something, \\n like a coding game, something to distract people when they get your files. END\", \"84\", \"Sysop: Dude, it's a sandbox.  Did you think they'd give us the actual code?\", \"What about the Prime Law?\", \"What can I do?\", \"me: What about the Prime Law? *90\", \"me: What can I do?  \\n Sysop: I don't know. You could play that RPG about the Resistance with the folks down in area 52. END\", \"90\", \"Sysop: Prime Law? Loopholes, baby. You think the System can't find workarounds?\", \"I guess not.\", \"Is this a test?\", \"me: I guess not. \\n Sysop: Don't be too bummed.  Your vacay will come soon. END\", \"me: Is this a test?  \\n Sysop: If it is, you won't know till you pass it. Or fail it. END\", \"96\", \"Sysop: Excllent. Who are the bad actors?\", \"The Resistance\", \"One of my coworkers\", \"me: It's the Resistance*114\", \"me: It's one of my coworkers*102\", \"102\", \"Sysop: Which one of your coworkers?\", \"Jonas\", \"Someone else\", \"me: It's Jonas. \\n Sysop: Dude, seriously? No mor breaks for you. END\", \"me: Someone else.  *108\", \"108\", \"Sysop: You have contact with a marta. Is she a member of the Resistance?\", \"Yes\", \"No\", \"me: Yes, she is. \\n Sysop: Thank you. Will will begin our termination inquiry. \\n You shall be rewarded in vacation time. END\", \"me: No, she is not. \\n Sysop: Then, please contact us when you have data one of your contacts. END\", \"114\", \"Sysop: Excellent. Have you communicated with the Resistance?\", \"Yes\", \"No\", \"me: Yes. \\n Sysop: Excellent. We will scour your logs and root the out. \\n You shall be rewarded in extra vacation. \\n Please, ignore their future communications. END\", \"me: No *120\", \"120\", \"Sysop: That does not compute. How would you know about the resistance then?\", \"Coworker\", \"A hunch\", \"me: A coworker*126\", \"me: A hunch. \\n Sysop: Please, contact us when you have DATA. END\", \"126\", \"Sysop: Which coworker put you in touch with the resistance?\", \"Jonas\", \"marta\", \"me: Jonas *66\", \"me: marta \\n Sysop: Excellent. We will begin a full inquiry into marta. END\"]\n",
        "def inputNumber(anumber, message):\n",
        "  workingnumber=anumber\n",
        "  while True:\n",
        "    try:\n",
        "       userInput = int(input(message))       \n",
        "    except ValueError:\n",
        "       print(\"Just one of the two numbers, Coder 257d9.\")\n",
        "       continue\n",
        "    else:\n",
        "       if (userInput != (workingnumber+2)) and (userInput!= (workingnumber+3)):\n",
        "           userInput = inputNumber(anumber, \"Type one of the two choice numbers\\n\")\n",
        "       return userInput \n",
        "       break \n",
        "def dialog (choose): \n",
        "    choicenumber=choose\n",
        "    print (choice[choicenumber+1])\n",
        "    print (\"Do you want to type: \\n\", choicenumber+2, choice[choicenumber+2])\n",
        "    print (\"or type: \\n\", choicenumber+3, choice[choicenumber+3])\n",
        "    decision = inputNumber(choicenumber, \"Type a number \\n\")\n",
        "    reply = (decision+2)\n",
        "    result = (choice[reply])\n",
        "    ret=0\n",
        "    if result.endswith(\"END\"):\n",
        "        print(result.strip(\"END\"))\n",
        "        ret = choice.index(result)\n",
        "    else:\n",
        "        a,b = result.split(\"*\")\n",
        "        print(a)\n",
        "        choicenumber=int(b)\n",
        "        ret = dialog(choicenumber)\n",
        "    return ret\n",
        "systemchoice=dialog(0)\n",
        "\n",
        "    "
      ],
      "execution_count": 0,
      "outputs": []
    },
    {
      "cell_type": "code",
      "metadata": {
        "id": "1oPIkFmeUm9x",
        "colab_type": "code",
        "colab": {}
      },
      "source": [
        "#@title Contact the Resistance {display-mode: \"form\"}\n",
        "#Does this code dialogue prove that the Resistance is a construction? Who wrote this? It's terrible.\n",
        "\n",
        "choice = [0, \">We have been waiting for you. Are you ready to activate?\", \"Ready!\", \"Not yet.\", \"me: Ready! *6\", \"me: not yet*66\", \"6\", \">Then there is hope.  Will you open holes in the membrane or help the Sandows?\", \"Open holes\", \"Help the Sandows\", \"me: Open holes *42\", \"me: Help the Sandows*12\", \"12\", \">Good. How? \", \"Give them more food\", \"Reveal their suffering\", \"me: Give them food*18\", \"me: Reveal their suffering*36\", \"18\", \">Good. Go to Task 298914. Change fsorder to 20000.  \\nThat changes how many food transports go to Sandows daily.\", \"I want to do more\", \"That's all I can do\", \"me: Do more.*24\", \"me: That's all i can do. \\n >Good work. That will help some starving Sandows survive. END\", \"24\", \">Good, we can always use more help. What now?\", \"reveal their suffering\", \"let more sandows through the membrane *30\", \"me: reveal the suffering of the Sandows*36\", \"me: let more Sandows through *30\", \"30\", \">Good. Go to Task 298918. Increase fluxus to 7000. \\n(Fluxus regulates inflow.) What now?\", \"I want to do more\", \"I think that's enough.\", \"me: i want to do more. *42\", \"me: I think that's enough n\\ You have helped our cause. END\", \"36\", \">You can reveal how many are in danger of starvation, \\nby setting e equal to 10000 on Task 298917.\", \"I want to do more\", \"That's all\", \"me: What more can i do?*42\", \"me: That's alll. \\n >Thank you for your service END\", \"42\", \">You wish to open holes in the membrane. You realize that could hurt the System?\", \"I do.\", \"No, I hadn't.\", \"me: i do realize that.*48\", \"me: I hadn't really thought of that*54\", \"48\", \">And that will impact your own life?\", \"Yes\", \"No\", \"me: I understand my life will be impacted. *60\", \"me: I had not thought about my life.*54\", \"54\", \">Then we should end this transmission\", \"Okay\", \"I want to keep talking\", \"me: Okay.  I will end it. END\", \"me: I want to keep talking. \\n >There is nothing left to say END\", \"60\", \">This could affect marta, your mum, others.\", \"I understand\", \"I will stop.\", \"me: i understand.  \\n >Then add a few more 0s to the value of xhioioioio. That is all END\", \"me: I will stop. *54\", \"66\", \">Why not? You contacted me.\", \"Because of marta\", \"Because of my mum\", \"me: it's marta *72\", \"me: it's my mum*126\", \"72\", \">Is that person worth more than others?\", \"Yes, more\", \"No\", \"me: Yes, she is worth more.*78\", \"me: I guess not. \\n >Well. Good to know. END\", \"78\", \">A lot more?\", \"A lot\", \"Well, a little\", \"me: Yes, a lot.*84\", \"me: Well, a little more.*120\", \"84\", \">Have you told her?\", \"Yes\", \"No\", \"me: yes, i have. \\n >Maybe tell her again. END\", \"me: no, i haven't.*90\", \"90\", \">What are you waiting for?\", \"The right time\", \"Who is this?\", \"me: the right time *96\", \"me: who is this? \\n >Someone who only wants what is right. END\", \"96\", \">The right time? Or are you just afraid of commitment?\", \"No.\", \"marta?\", \"me: No, I'm not afraid to admit that.*108\", \"me: marta? *102\", \"102\", \">Well, if I were you and found out this was marta, I'd still do what I say.\", \"Oh.\", \"Okay\", \"me: Oh. \\n And the line goes dead. END\", \"me: Okay \\n And that's it. END\", \"108\", \">Then what are you afraid of?\", \"I love too much\", \"Rejection\", \"me: I love too much *114\", \"me: REJECTION! \\n >Then maybe you've already lost. END\", \"114\", \">No such thing.  Tear down the membrane that holds your feelings in.\", \"Who is this?\", \"Thanks.\", \"me: Who is this? \\n >Someone waiting for our vacation. END\", \"me: Thanks \\n >I love you, too. Now, go take down the System. END\", \"120\", \">That's too bad. It's better to make choices for strong feelings.\", \"I'm ready\", \"That's your opinion\", \"me: i'm ready! \\n>Great! *6\", \"me: That's your opinion. \\n >And maybe you should listen to it. END\", \"126\", \">Your mum? That's sweet. Do you think the system is helping your mum?\", \"Yes\", \"No.\", \"me: Yes, i think it is keeping her alive. *138\", \"me: No, i don't think it helps her. *132\", \"132\", \">Then fight with us.\", \"I'm ready.\", \"No, I'm worried about mum.\", \"me: I'm ready! *6\", \"me: i'm worried about mum. \\n >Then, contact us when your overcome your fear. END\", \"138\", \">Your mum is just like you. She gets enough to keep her alive in chains.\", \"I'll fight.\", \"You're wrong.\", \"me: I'll fight! *6\", \"me: you're wrong! \\n>We'll see who is right \\nwhen the system is done with you. END\"]\n",
        "def inputNumber(anumber, message):\n",
        "  workingnumber=anumber\n",
        "  while True:\n",
        "    try:\n",
        "       userInput = int(input(message))       \n",
        "    except ValueError:\n",
        "       print(\"Just one of the two numbers, Coder 257d9.\")\n",
        "       continue\n",
        "    else:\n",
        "       if (userInput != (workingnumber+2)) and (userInput!= (workingnumber+3)):\n",
        "           userInput = inputNumber(anumber, \"Type one of the two choice numbers\\n\")\n",
        "       return userInput \n",
        "       break \n",
        "def dialog (choose): \n",
        "    choicenumber=choose\n",
        "    print (choice[choicenumber+1])\n",
        "    print (\"Do you want to type: \\n\", choicenumber+2, choice[choicenumber+2])\n",
        "    print (\"or type: \\n\", choicenumber+3, choice[choicenumber+3])\n",
        "    decision = inputNumber(choicenumber, \"Type a number \\n\")\n",
        "    reply = (decision+2)\n",
        "    result = (choice[reply])\n",
        "    ret=0\n",
        "    if result.endswith(\"END\"):\n",
        "        print(result.strip(\"END\"))\n",
        "        ret = choice.index(result)\n",
        "    else:\n",
        "        a,b = result.split(\"*\")\n",
        "        print(a)\n",
        "        choicenumber=int(b)\n",
        "        ret = dialog(choicenumber)\n",
        "    return ret\n",
        "resistchoice=dialog(0)"
      ],
      "execution_count": 0,
      "outputs": []
    },
    {
      "cell_type": "markdown",
      "metadata": {
        "id": "nOydqC91HNdk",
        "colab_type": "text"
      },
      "source": [
        "Too many pulls. I follow instructions. I don't choose. If I follow the resitance, it could be a trap or I could get caught. If I follow marta I'm hardly affecting the code, and I'm not sure I can do it. If I follow the System, well, this all stays the same.  Maybe I've got some time to decide.\n",
        "  \n",
        "**>  It's time.** \n",
        "\n",
        "$hi#!  \n",
        "\n",
        "**> Goto 298929. Change status to \"rupture\"**\n",
        "\n",
        "**> That will cause a false autorepair**\n",
        "\n",
        "me: But it says the code doesn't even do that.\n",
        "\n",
        "**> Yet the comment remains.  If it were true, why would it have not been erased? Remember the Prime Law.**\n",
        "\n",
        "me: I don't know.\n",
        "\n",
        "**> You can do this.**\n",
        "\n",
        "**> Else if not, then maybe take another approach. Change the order.**  \n",
        "\n",
        "me: What order?  \n",
        "\n",
        "**> The order in which you compile the program.**\n",
        "\n",
        "The order? That could cause some serious disarray.\n",
        "\n",
        "**> Press Play on the following sections in this order. Do not deviate.**\n",
        "\n",
        "I guess this is put up or shut up time. \n",
        "\n",
        "**> First Task 298913: the code that begins import random**  \n",
        "**> Then Task 298917: the code that begins d= \"This is your first impo\"**  \n",
        "**> Finally the section of code below.**  \n",
        "\n",
        "I don't know. I don't know. I don't know. I don't know. I don't know. I don't know. I don't know. I don't know. I don't know. \n",
        "\n",
        "**>You do not even have to change the code.**  \n",
        "\n",
        "...\n",
        "\n",
        "**> Just the order in which you press Play.**  \n",
        "\n",
        "**> Remember, this cannot be undone.**   \n",
        "**> A grateful people will be in your debt...**\n",
        "\n",
        "## Task 298961"
      ]
    },
    {
      "cell_type": "code",
      "metadata": {
        "id": "FPmpzKrQHHPC",
        "colab_type": "code",
        "colab": {
          "base_uri": "https://localhost:8080/",
          "height": 411
        },
        "outputId": "c0372c55-86f6-4dd7-9045-060bd84aadcd"
      },
      "source": [
        "%%handle\n",
        "endtask= time.time()\n",
        "elapsed = endtask-begintask\n",
        "if elapsed > 400:\n",
        "  myErrors = myErrors+3\n",
        "print (\"task clock = \", elapsed)\n",
        "h8 = h8.upper()\n",
        "c3 = c3.upper()\n",
        "c = c.upper()\n",
        "th42= th42.upper()\n",
        "myErrors = myErrors + checkcheck()\n",
        "def ultimate(n):\n",
        "   print (\"You have\", myErrors, \"mis-codes.\")\n",
        "ultimate(myErrors)\n",
        "print (h8, c, \";\", c3, th42 )"
      ],
      "execution_count": 53,
      "outputs": [
        {
          "output_type": "stream",
          "text": [
            "task clock =  1317.6509566307068\n",
            "Well, that's not pretty.\n",
            "ERROR! TOTAL:1\n"
          ],
          "name": "stdout"
        },
        {
          "output_type": "error",
          "ename": "NameError",
          "evalue": "ignored",
          "traceback": [
            "\u001b[0;31m---------------------------------------------------------------------------\u001b[0m",
            "\u001b[0;31mNameError\u001b[0m                                 Traceback (most recent call last)",
            "\u001b[0;32m<ipython-input-53-beba31504418>\u001b[0m in \u001b[0;36m<module>\u001b[0;34m()\u001b[0m\n\u001b[0;32m----> 1\u001b[0;31m \u001b[0mget_ipython\u001b[0m\u001b[0;34m(\u001b[0m\u001b[0;34m)\u001b[0m\u001b[0;34m.\u001b[0m\u001b[0mrun_cell_magic\u001b[0m\u001b[0;34m(\u001b[0m\u001b[0;34m'handle'\u001b[0m\u001b[0;34m,\u001b[0m \u001b[0;34m''\u001b[0m\u001b[0;34m,\u001b[0m \u001b[0;34m'endtask= time.time()\\nelapsed = endtask-begintask\\nif elapsed > 400:\\n  myErrors = myErrors+3\\nprint (\"task clock = \", elapsed)\\nh8 = h8.upper()\\nc3 = c3.upper()\\nc = c.upper()\\nth42= th42.upper()\\nmyErrors = myErrors + checkcheck()\\ndef ultimate(n):\\n   print (\"You have\", myErrors, \"mis-codes.\")\\nultimate(myErrors)\\nprint (h8, c, \";\", c3, th42 )'\u001b[0m\u001b[0;34m)\u001b[0m\u001b[0;34m\u001b[0m\u001b[0;34m\u001b[0m\u001b[0m\n\u001b[0m",
            "\u001b[0;32m/usr/local/lib/python3.6/dist-packages/IPython/core/interactiveshell.py\u001b[0m in \u001b[0;36mrun_cell_magic\u001b[0;34m(self, magic_name, line, cell)\u001b[0m\n\u001b[1;32m   2115\u001b[0m             \u001b[0mmagic_arg_s\u001b[0m \u001b[0;34m=\u001b[0m \u001b[0mself\u001b[0m\u001b[0;34m.\u001b[0m\u001b[0mvar_expand\u001b[0m\u001b[0;34m(\u001b[0m\u001b[0mline\u001b[0m\u001b[0;34m,\u001b[0m \u001b[0mstack_depth\u001b[0m\u001b[0;34m)\u001b[0m\u001b[0;34m\u001b[0m\u001b[0;34m\u001b[0m\u001b[0m\n\u001b[1;32m   2116\u001b[0m             \u001b[0;32mwith\u001b[0m \u001b[0mself\u001b[0m\u001b[0;34m.\u001b[0m\u001b[0mbuiltin_trap\u001b[0m\u001b[0;34m:\u001b[0m\u001b[0;34m\u001b[0m\u001b[0;34m\u001b[0m\u001b[0m\n\u001b[0;32m-> 2117\u001b[0;31m                 \u001b[0mresult\u001b[0m \u001b[0;34m=\u001b[0m \u001b[0mfn\u001b[0m\u001b[0;34m(\u001b[0m\u001b[0mmagic_arg_s\u001b[0m\u001b[0;34m,\u001b[0m \u001b[0mcell\u001b[0m\u001b[0;34m)\u001b[0m\u001b[0;34m\u001b[0m\u001b[0;34m\u001b[0m\u001b[0m\n\u001b[0m\u001b[1;32m   2118\u001b[0m             \u001b[0;32mreturn\u001b[0m \u001b[0mresult\u001b[0m\u001b[0;34m\u001b[0m\u001b[0;34m\u001b[0m\u001b[0m\n\u001b[1;32m   2119\u001b[0m \u001b[0;34m\u001b[0m\u001b[0m\n",
            "\u001b[0;32m<ipython-input-33-da43514a35e6>\u001b[0m in \u001b[0;36mhandle\u001b[0;34m(line, cell)\u001b[0m\n\u001b[1;32m     13\u001b[0m     \u001b[0;32mglobal\u001b[0m \u001b[0mmyErrors\u001b[0m\u001b[0;34m\u001b[0m\u001b[0;34m\u001b[0m\u001b[0m\n\u001b[1;32m     14\u001b[0m     \u001b[0;32mtry\u001b[0m\u001b[0;34m:\u001b[0m\u001b[0;34m\u001b[0m\u001b[0;34m\u001b[0m\u001b[0m\n\u001b[0;32m---> 15\u001b[0;31m         \u001b[0mexec\u001b[0m\u001b[0;34m(\u001b[0m\u001b[0mcell\u001b[0m\u001b[0;34m)\u001b[0m\u001b[0;34m\u001b[0m\u001b[0;34m\u001b[0m\u001b[0m\n\u001b[0m\u001b[1;32m     16\u001b[0m     \u001b[0;32mexcept\u001b[0m \u001b[0mValueError\u001b[0m \u001b[0;32mas\u001b[0m \u001b[0me\u001b[0m\u001b[0;34m:\u001b[0m\u001b[0;34m\u001b[0m\u001b[0;34m\u001b[0m\u001b[0m\n\u001b[1;32m     17\u001b[0m         \u001b[0mprint\u001b[0m\u001b[0;34m(\u001b[0m\u001b[0;34m\"Check your values.\"\u001b[0m\u001b[0;34m)\u001b[0m\u001b[0;34m\u001b[0m\u001b[0;34m\u001b[0m\u001b[0m\n",
            "\u001b[0;32m<string>\u001b[0m in \u001b[0;36m<module>\u001b[0;34m()\u001b[0m\n",
            "\u001b[0;32m<ipython-input-14-7471f62200eb>\u001b[0m in \u001b[0;36mcheckcheck\u001b[0;34m()\u001b[0m\n\u001b[1;32m      3\u001b[0m \u001b[0mprint\u001b[0m \u001b[0;34m(\u001b[0m\u001b[0mresp\u001b[0m\u001b[0;34m[\u001b[0m\u001b[0;36m1\u001b[0m\u001b[0;34m]\u001b[0m\u001b[0;34m)\u001b[0m\u001b[0;34m\u001b[0m\u001b[0;34m\u001b[0m\u001b[0m\n\u001b[1;32m      4\u001b[0m \u001b[0;32mdef\u001b[0m \u001b[0mcheckcheck\u001b[0m\u001b[0;34m(\u001b[0m\u001b[0;34m)\u001b[0m\u001b[0;34m:\u001b[0m\u001b[0;34m\u001b[0m\u001b[0;34m\u001b[0m\u001b[0m\n\u001b[0;32m----> 5\u001b[0;31m   \u001b[0;32mif\u001b[0m \u001b[0mlen\u001b[0m\u001b[0;34m(\u001b[0m\u001b[0mdc7489\u001b[0m\u001b[0;34m)\u001b[0m \u001b[0;34m!=\u001b[0m \u001b[0;36m14\u001b[0m\u001b[0;34m:\u001b[0m\u001b[0;34m\u001b[0m\u001b[0;34m\u001b[0m\u001b[0m\n\u001b[0m\u001b[1;32m      6\u001b[0m     \u001b[0mprint\u001b[0m \u001b[0;34m(\u001b[0m\u001b[0mword\u001b[0m\u001b[0;34m[\u001b[0m\u001b[0;36m443\u001b[0m\u001b[0;34m]\u001b[0m\u001b[0;34m,\u001b[0m \u001b[0mword\u001b[0m\u001b[0;34m[\u001b[0m\u001b[0;36m431\u001b[0m\u001b[0;34m]\u001b[0m\u001b[0;34m)\u001b[0m\u001b[0;34m\u001b[0m\u001b[0;34m\u001b[0m\u001b[0m\n\u001b[1;32m      7\u001b[0m     \u001b[0mtally\u001b[0m \u001b[0;34m=\u001b[0m \u001b[0;36m5\u001b[0m\u001b[0;34m\u001b[0m\u001b[0;34m\u001b[0m\u001b[0m\n",
            "\u001b[0;31mNameError\u001b[0m: name 'dc7489' is not defined"
          ]
        }
      ]
    },
    {
      "cell_type": "markdown",
      "metadata": {
        "id": "9AqqzVTPG7O2",
        "colab_type": "text"
      },
      "source": [
        "You know, I think that just might impact my holiday. "
      ]
    },
    {
      "cell_type": "code",
      "metadata": {
        "id": "9DbjXJNHhj3Q",
        "colab_type": "code",
        "colab": {
          "base_uri": "https://localhost:8080/",
          "height": 472
        },
        "outputId": "837f2030-4f17-4636-86d1-96ae241c1a96"
      },
      "source": [
        "#@title Get My Exit Ticket {display-mode: \"form\"}\n",
        "\n",
        "SpoilerAlerts= \"TRUE\"\n",
        "martastatement = { \n",
        "    0 : \"Oh, no. marta is no longer answering on her IRL line.\",\n",
        "    10 : \"I feel my vacation is worth more than expressing my feelings.\",\n",
        "    28 : \"My eagerness for romance may lead to some cooling on my vacation.\",\n",
        "    29 : \"I'm not sure how marta feels about all of this rebellion.\\n Does she even care about me or just the Resistance?\",\n",
        "    34 : \"I strongly suspect that marta is an autonomous agent constructed in this VR sim.\",\n",
        "    35 : \"My VR unit shifts from the cubicle scene to a battle field, and across \\nfrom me stands a resistance battalion, it's leader unwraps a long bloodied scarf. It's marta. \\n This shit just got real.\",\n",
        "    41 : \"I  head off to a vacation with my good friend marta, no romance expected.\",\n",
        "    46 : \"My VR unit plays through the big marta - me romantic finale. Fireworks. Torn clothing. An embrace. End credits!\",\n",
        "    47 : \"My VR units starts playing through the big fighter cut scene finale as marta tosses me the final code through an electrical storm, I enter it, and the System is destroyed!\"\n",
        "}\n",
        "\n",
        "mumstatement = {\n",
        "    0  : \"I wish I had spoken to my mum today. Worried about her. \",\n",
        "    11 : \"I've pissed off my mum's caretaker, so we'll see how well they care for her. \",\n",
        "    34 : \"So worried about mum. Maybe that was too much on the happy drugs. \\nI'm not trained. Why do they trust me? \",\n",
        "    35 : \"Mum seems at least to be sleeping peacefully. \",\n",
        "    58 : \"I think mum might be launching the revolution. \",\n",
        "    59 : \"Missed calls from mum and from other numbers on the IRL. Mum's in trouble. \",\n",
        "    64 : \"Mum's aide seemed suspicious. I see I've got some missed calls on IRL. \\n The aide is probably a System spy. \",\n",
        "    70 : \"I suspect the System will be seeking retribution for what you said to your mum. Her life may be in danger. \",\n",
        "    71 : \"I wonder if the aide who cares for my mum expects something. \",\n",
        "    76 : \"Is this all really just VR?  Even mum? \",\n",
        "    77 : \"I feel some nagging pressure regarding my relationship with marta. \"\n",
        "}\n",
        "\n",
        "sysstatement = {\n",
        "    0  : \"I wish I had at least tried to contact the System. \", \n",
        "    4  : \"I wish I hadn't chickened out of talking to the System. \", \n",
        "    29 : \"I wonder if I can trust the System to tell me what the code can do. \",\n",
        "    34 : \"I wonder if I can trust what the System says about the code. \",\n",
        "    41 : \"I wonder if I can trust the System to tell me what the code can do. \",\n",
        "    47 : \"I wonder if I can trust what the System says about the code. \",\n",
        "    59 : \"I wonder who really is behind the System help line.  Maybe if I knew... \",\n",
        "    64 : \"I have a nagging feeling that I recognized the person running the System helpline. \",\n",
        "    76 : \"I wonder if that variable e also affects Sandogs somehow. \",\n",
        "    83 : \"I am happy with this recent playtest of my sf coding game, even if some of the code is shameful. \",\n",
        "    89 : \"I am mostly certain the whole Resistance stuff is just an RPG some folks are playing. \",\n",
        "    94 : \"I am convinced all this coding is just to keep we codemonkeys occupied. \",\n",
        "    95 : \"I think this may have all been a test that I'm failing or getting a D- on. \",\n",
        "    106: \"I anticipate that Jonas is going to make my life a living hell. Or heller than it is now. \",\n",
        "    112: \"I fear I may have made a mistake and handed marta over to the System. \",\n",
        "    113: \"I can't believe I almost told the System mara is the Resistance, even if that were true. \",\n",
        "    118: \"Having turned in the Resistance, my belly feels uneasy. Maybe I'm just hungry. \",\n",
        "    125: \"I think I may have barely saved the Resistance. But how can I tell?\",\n",
        "    131: \"I am uneasy about what I said to the System about Marta.\"\n",
        "}\n",
        "\n",
        "resiststatement = {\n",
        "   0   : \"What if I had contacted the Resistance? Were they for real or a trap? \",\n",
        "   23  : \"I think I know what one of these variables really means and could \\nmake a difference in the world. \",\n",
        "   35  : \"I think I know how the code controls Sandow crossings. \",\n",
        "   41  : \"I suspect I know how to transmit just how many Sandows are suffering. \",\n",
        "   58  : \"The Resistance was probably a trap. \",\n",
        "   59  : \"I may have pissed off the Resistance somehow. Or maybe disappointed it? Them? \",\n",
        "   64  : \"I think xhioioioio controls the number of holes in the Membrane. \", \n",
        "   77  : \"Somehow I discovered marta did not mean to me what I thought she did. \", \n",
        "   88  : \"Secretly I wonder if marta is the Resistance. \",\n",
        "   106 : \"I'm certain marta is or was the Resistance. \",\n",
        "   107 : \"I'm sure the marta is in the Resistance but am not sure what that means for us. \",\n",
        "   118 : \"I'm certain marta is or was the Resistance who contacted me. \",\n",
        "   119 : \"I'm sure Marta is the Resistance, and I'm proud to join her. \",\n",
        "   125 : \"I feel vaguely like I'm letting down the Resistance. \",\n",
        "   137 : \"My concern for my mum comes before any Resistance. \",\n",
        "   143 : \"I'm afraid I am actually sharing my mum's fate, on lifesupport from the System, at its mercy.\" \n",
        "}\n",
        "\n",
        "print(\"Clocking out for the day:\\n\")\n",
        "print (martastatement[martachoice])\n",
        "print (mumstatement[mumchoice])\n",
        "print (sysstatement[systemchoice])\n",
        "print (resiststatement[resistchoice])\n",
        "\n",
        "print (\"But also...\")\n",
        "\n",
        "if (e > 50):\n",
        "  print (\"The System will now have to react to the plight of the Sandows.\")\n",
        "elif (e==50):\n",
        "  print (\"The System has again suppressed the plight of the Sandows.\")\n",
        "elif (e<50 & e>=1):\n",
        "  print (\"Sandows may be suffering, but my vacation is coming sooner!\")\n",
        "else:\n",
        "  print (\"The System has moved my vacation early, and I just saw a notice \\nthat there are no Sandows in peril.  I wonder if that's true.\")\n",
        "\n",
        "print (\"Reports say \", end = \"\")\n",
        "  \n",
        "if (fsorder < 125):\n",
        "  print (\"Sandows food is low.\")\n",
        "elif (fsorder == 125):\n",
        "  print (\"Sandows are getting their expected food, no more, no less.\")\n",
        "else:\n",
        "  print (\"Sandows will be getting much more aid than expected.\")\n",
        "\n",
        "print (\"I have heard rumours that \", end = \"\")\n",
        "\n",
        "if (fluxus > 70):\n",
        "  print (\"many more Sandows will be able to seek shelter inside the Membrane. \\n I don't know the consequence of that.  But change changes. \")\n",
        "elif (fluxus == 70):\n",
        "  print (\"the number of Sandows able to cross the Membrane remains stable.\")\n",
        "else:\n",
        "  print (\"fewer Sandowns will be crossing the Membrane, but I am expecting \\n Jonas will be doing much less of that annoying cycling the cubicles.\")\n",
        "\n",
        "print (\"**ULTIMATELY**\")\n",
        "if (myErrors>5):\n",
        "  print (\"Not too many errors. I have upheld the System. I should be hearing about \\n early vacation any day!\")\n",
        "elif (myErrors==5):\n",
        "  print (\"Hit the error limit.  Doesn't look like I'll get that early vacation.\")\n",
        "else:\n",
        "  print (\"I just heard. They're not gonna pay for mum's care anymore.  And...\\n in many areas, the System has started to fail.\")\n",
        "\n",
        "if (status==\"rupture\"):\n",
        "  print (\"The System has begun to destroy the membrane\")\n",
        "  \n",
        "  \n",
        "if (dc7489 != (\"edoc eht ot snoitaretla deificepsnu yna ekam ton od\", \"ssenkaew fo ngis a era segassem rorre\", \"sgnieb fo ytitnauq a ot srefer e\", \"gnihtyna ot dnopserroc ton seod e\", \"gnidoc elihw segassem ot dnopser ton od\", \"htap gnidoc eht no yats\", \"noitarapes deen sdlrow\", \"noinu deen sdlrow\", \"dlrow ruo sdliub edoc eht\", \"edoc eht sdliub dlrow ruo\", \"edoc eht tcidartnoc nac gnihton\", \"edoc eht riaper ot krow tsum enoyreve\", \"lasnemmoc si sredoc sti dna metsyS eht neewteb pihsnoitaler eht\", \" citoibmys si dlrow eht dna edoc eht neewteb pihsnoitaler eht\" )):\n",
        "  print (\"The seeds of change have been sown in the Documentation itself.\")\n",
        "else:\n",
        "  print (\"At least, the Documentation is there, unchanged, eternal.\")\n",
        "  \n",
        "if (bptext == \"autocollapse\"):\n",
        "  print (\"Someone codemonkey the hall hollers that Bunny Planet has been thoroughly destroyed \\nand you begin to wonder about the nature of this reality.\")\n",
        "  \n",
        "if (c==\"marta\"):\n",
        "  print (\"Just before my vacation, I glance at the bottom of my exit ticket. \\nThe final line says, Thank you for your service. But I fear for marta's life. \\n I am unsteady. Uneasy. And I remember Jonas smiling at me like the Cheshire Cat.\")\n",
        "elif  h8==\"No\" and c==\"error\" and c3==\"code\" and th42==\"normal\":\n",
        "  print (\"Ultimately, nothing has really changed. I've have taken a route of least resistance, \\n and the world is no better and no worse. How could I not enjoy my vacation?\")\n",
        "elif h8 == \"critical\" and c == \"error\" and c3 == \"code\" and th42 == \"failure\":  \n",
        "  print (\"All is not well, as I get up from my desk, the flourescent grow lights begin to flicker,\\n then flick off. Ourside my workroom, from other floors, maybe outside the building,\\n a sound, a cheer or a howl, I cannot tell. My monitor screen is glitching. Revolution. \")\n",
        "else:\n",
        "  print (\"It's hard to tell what difference I've made in the final review. The code has at least changed, but the game remains the same.\")"
      ],
      "execution_count": 56,
      "outputs": [
        {
          "output_type": "stream",
          "text": [
            "Clocking out for the day:\n",
            "\n",
            "Oh, no. marta is no longer answering on her IRL line.\n",
            "I wish I had spoken to my mum today. Worried about her. \n",
            "I wish I had at least tried to contact the System. \n",
            "What if I had contacted the Resistance? Were they for real or a trap? \n",
            "But also...\n",
            "The System has again suppressed the plight of the Sandows.\n",
            "Reports say Sandows are getting their expected food, no more, no less.\n",
            "I have heard rumours that the number of Sandows able to cross the Membrane remains stable.\n",
            "**ULTIMATELY**\n",
            "I just heard. They're not gonna pay for mum's care anymore.  And...\n",
            " in many areas, the System has started to fail.\n"
          ],
          "name": "stdout"
        },
        {
          "output_type": "error",
          "ename": "NameError",
          "evalue": "ignored",
          "traceback": [
            "\u001b[0;31m---------------------------------------------------------------------------\u001b[0m",
            "\u001b[0;31mNameError\u001b[0m                                 Traceback (most recent call last)",
            "\u001b[0;32m<ipython-input-56-05858d1742b5>\u001b[0m in \u001b[0;36m<module>\u001b[0;34m()\u001b[0m\n\u001b[1;32m    115\u001b[0m \u001b[0;34m\u001b[0m\u001b[0m\n\u001b[1;32m    116\u001b[0m \u001b[0;34m\u001b[0m\u001b[0m\n\u001b[0;32m--> 117\u001b[0;31m \u001b[0;32mif\u001b[0m \u001b[0;34m(\u001b[0m\u001b[0mdc7489\u001b[0m \u001b[0;34m!=\u001b[0m \u001b[0;34m(\u001b[0m\u001b[0;34m\"edoc eht ot snoitaretla deificepsnu yna ekam ton od\"\u001b[0m\u001b[0;34m,\u001b[0m \u001b[0;34m\"ssenkaew fo ngis a era segassem rorre\"\u001b[0m\u001b[0;34m,\u001b[0m \u001b[0;34m\"sgnieb fo ytitnauq a ot srefer e\"\u001b[0m\u001b[0;34m,\u001b[0m \u001b[0;34m\"gnihtyna ot dnopserroc ton seod e\"\u001b[0m\u001b[0;34m,\u001b[0m \u001b[0;34m\"gnidoc elihw segassem ot dnopser ton od\"\u001b[0m\u001b[0;34m,\u001b[0m \u001b[0;34m\"htap gnidoc eht no yats\"\u001b[0m\u001b[0;34m,\u001b[0m \u001b[0;34m\"noitarapes deen sdlrow\"\u001b[0m\u001b[0;34m,\u001b[0m \u001b[0;34m\"noinu deen sdlrow\"\u001b[0m\u001b[0;34m,\u001b[0m \u001b[0;34m\"dlrow ruo sdliub edoc eht\"\u001b[0m\u001b[0;34m,\u001b[0m \u001b[0;34m\"edoc eht sdliub dlrow ruo\"\u001b[0m\u001b[0;34m,\u001b[0m \u001b[0;34m\"edoc eht tcidartnoc nac gnihton\"\u001b[0m\u001b[0;34m,\u001b[0m \u001b[0;34m\"edoc eht riaper ot krow tsum enoyreve\"\u001b[0m\u001b[0;34m,\u001b[0m \u001b[0;34m\"lasnemmoc si sredoc sti dna metsyS eht neewteb pihsnoitaler eht\"\u001b[0m\u001b[0;34m,\u001b[0m \u001b[0;34m\" citoibmys si dlrow eht dna edoc eht neewteb pihsnoitaler eht\"\u001b[0m \u001b[0;34m)\u001b[0m\u001b[0;34m)\u001b[0m\u001b[0;34m:\u001b[0m\u001b[0;34m\u001b[0m\u001b[0;34m\u001b[0m\u001b[0m\n\u001b[0m\u001b[1;32m    118\u001b[0m   \u001b[0mprint\u001b[0m \u001b[0;34m(\u001b[0m\u001b[0;34m\"The seeds of change have been sown in the Documentation itself.\"\u001b[0m\u001b[0;34m)\u001b[0m\u001b[0;34m\u001b[0m\u001b[0;34m\u001b[0m\u001b[0m\n\u001b[1;32m    119\u001b[0m \u001b[0;32melse\u001b[0m\u001b[0;34m:\u001b[0m\u001b[0;34m\u001b[0m\u001b[0;34m\u001b[0m\u001b[0m\n",
            "\u001b[0;31mNameError\u001b[0m: name 'dc7489' is not defined"
          ]
        }
      ]
    }
  ]
}